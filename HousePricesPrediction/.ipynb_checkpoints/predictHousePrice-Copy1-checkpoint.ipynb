{
 "cells": [
  {
   "cell_type": "code",
   "execution_count": 105,
   "metadata": {},
   "outputs": [],
   "source": [
    "import pandas as pd\n",
    "import numpy as np\n",
    "import seaborn as sns\n",
    "from sklearn.preprocessing import Imputer,LabelEncoder\n",
    "from scipy.stats import norm, skew\n",
    "import matplotlib.pyplot as plt\n",
    "import warnings\n",
    "warnings.filterwarnings(\"ignore\")"
   ]
  },
  {
   "cell_type": "code",
   "execution_count": 106,
   "metadata": {},
   "outputs": [],
   "source": [
    "df_train = pd.read_csv('house-prices-advanced-regression-techniques/train.csv')\n",
    "df_test = pd.read_csv('house-prices-advanced-regression-techniques/test.csv')"
   ]
  },
  {
   "cell_type": "code",
   "execution_count": null,
   "metadata": {},
   "outputs": [],
   "source": []
  },
  {
   "cell_type": "code",
   "execution_count": 49,
   "metadata": {},
   "outputs": [],
   "source": [
    "df = df_train.append(df_test, sort=False)"
   ]
  },
  {
   "cell_type": "code",
   "execution_count": 50,
   "metadata": {},
   "outputs": [],
   "source": [
    "X_train = df_train.drop(['SalePrice'],axis=1)\n",
    "y_train = df_train['SalePrice'].copy()"
   ]
  },
  {
   "cell_type": "code",
   "execution_count": 51,
   "metadata": {},
   "outputs": [],
   "source": [
    "X_test = df_test.copy()"
   ]
  },
  {
   "cell_type": "code",
   "execution_count": 52,
   "metadata": {},
   "outputs": [
    {
     "data": {
      "text/plain": [
       "(1459, 80)"
      ]
     },
     "execution_count": 52,
     "metadata": {},
     "output_type": "execute_result"
    }
   ],
   "source": [
    "X_test.shape"
   ]
  },
  {
   "cell_type": "code",
   "execution_count": 53,
   "metadata": {},
   "outputs": [
    {
     "data": {
      "text/plain": [
       "(1460, 80)"
      ]
     },
     "execution_count": 53,
     "metadata": {},
     "output_type": "execute_result"
    }
   ],
   "source": [
    "X_train.shape"
   ]
  },
  {
   "cell_type": "code",
   "execution_count": 54,
   "metadata": {},
   "outputs": [],
   "source": [
    "df = X_train.append(X_test, sort = False)"
   ]
  },
  {
   "cell_type": "code",
   "execution_count": 55,
   "metadata": {},
   "outputs": [
    {
     "data": {
      "text/html": [
       "<div>\n",
       "<style scoped>\n",
       "    .dataframe tbody tr th:only-of-type {\n",
       "        vertical-align: middle;\n",
       "    }\n",
       "\n",
       "    .dataframe tbody tr th {\n",
       "        vertical-align: top;\n",
       "    }\n",
       "\n",
       "    .dataframe thead th {\n",
       "        text-align: right;\n",
       "    }\n",
       "</style>\n",
       "<table border=\"1\" class=\"dataframe\">\n",
       "  <thead>\n",
       "    <tr style=\"text-align: right;\">\n",
       "      <th></th>\n",
       "      <th>Id</th>\n",
       "      <th>MSSubClass</th>\n",
       "      <th>MSZoning</th>\n",
       "      <th>LotFrontage</th>\n",
       "      <th>LotArea</th>\n",
       "      <th>Street</th>\n",
       "      <th>Alley</th>\n",
       "      <th>LotShape</th>\n",
       "      <th>LandContour</th>\n",
       "      <th>Utilities</th>\n",
       "      <th>...</th>\n",
       "      <th>ScreenPorch</th>\n",
       "      <th>PoolArea</th>\n",
       "      <th>PoolQC</th>\n",
       "      <th>Fence</th>\n",
       "      <th>MiscFeature</th>\n",
       "      <th>MiscVal</th>\n",
       "      <th>MoSold</th>\n",
       "      <th>YrSold</th>\n",
       "      <th>SaleType</th>\n",
       "      <th>SaleCondition</th>\n",
       "    </tr>\n",
       "  </thead>\n",
       "  <tbody>\n",
       "    <tr>\n",
       "      <th>0</th>\n",
       "      <td>1</td>\n",
       "      <td>60</td>\n",
       "      <td>RL</td>\n",
       "      <td>65.0</td>\n",
       "      <td>8450</td>\n",
       "      <td>Pave</td>\n",
       "      <td>NaN</td>\n",
       "      <td>Reg</td>\n",
       "      <td>Lvl</td>\n",
       "      <td>AllPub</td>\n",
       "      <td>...</td>\n",
       "      <td>0</td>\n",
       "      <td>0</td>\n",
       "      <td>NaN</td>\n",
       "      <td>NaN</td>\n",
       "      <td>NaN</td>\n",
       "      <td>0</td>\n",
       "      <td>2</td>\n",
       "      <td>2008</td>\n",
       "      <td>WD</td>\n",
       "      <td>Normal</td>\n",
       "    </tr>\n",
       "    <tr>\n",
       "      <th>1</th>\n",
       "      <td>2</td>\n",
       "      <td>20</td>\n",
       "      <td>RL</td>\n",
       "      <td>80.0</td>\n",
       "      <td>9600</td>\n",
       "      <td>Pave</td>\n",
       "      <td>NaN</td>\n",
       "      <td>Reg</td>\n",
       "      <td>Lvl</td>\n",
       "      <td>AllPub</td>\n",
       "      <td>...</td>\n",
       "      <td>0</td>\n",
       "      <td>0</td>\n",
       "      <td>NaN</td>\n",
       "      <td>NaN</td>\n",
       "      <td>NaN</td>\n",
       "      <td>0</td>\n",
       "      <td>5</td>\n",
       "      <td>2007</td>\n",
       "      <td>WD</td>\n",
       "      <td>Normal</td>\n",
       "    </tr>\n",
       "    <tr>\n",
       "      <th>2</th>\n",
       "      <td>3</td>\n",
       "      <td>60</td>\n",
       "      <td>RL</td>\n",
       "      <td>68.0</td>\n",
       "      <td>11250</td>\n",
       "      <td>Pave</td>\n",
       "      <td>NaN</td>\n",
       "      <td>IR1</td>\n",
       "      <td>Lvl</td>\n",
       "      <td>AllPub</td>\n",
       "      <td>...</td>\n",
       "      <td>0</td>\n",
       "      <td>0</td>\n",
       "      <td>NaN</td>\n",
       "      <td>NaN</td>\n",
       "      <td>NaN</td>\n",
       "      <td>0</td>\n",
       "      <td>9</td>\n",
       "      <td>2008</td>\n",
       "      <td>WD</td>\n",
       "      <td>Normal</td>\n",
       "    </tr>\n",
       "    <tr>\n",
       "      <th>3</th>\n",
       "      <td>4</td>\n",
       "      <td>70</td>\n",
       "      <td>RL</td>\n",
       "      <td>60.0</td>\n",
       "      <td>9550</td>\n",
       "      <td>Pave</td>\n",
       "      <td>NaN</td>\n",
       "      <td>IR1</td>\n",
       "      <td>Lvl</td>\n",
       "      <td>AllPub</td>\n",
       "      <td>...</td>\n",
       "      <td>0</td>\n",
       "      <td>0</td>\n",
       "      <td>NaN</td>\n",
       "      <td>NaN</td>\n",
       "      <td>NaN</td>\n",
       "      <td>0</td>\n",
       "      <td>2</td>\n",
       "      <td>2006</td>\n",
       "      <td>WD</td>\n",
       "      <td>Abnorml</td>\n",
       "    </tr>\n",
       "    <tr>\n",
       "      <th>4</th>\n",
       "      <td>5</td>\n",
       "      <td>60</td>\n",
       "      <td>RL</td>\n",
       "      <td>84.0</td>\n",
       "      <td>14260</td>\n",
       "      <td>Pave</td>\n",
       "      <td>NaN</td>\n",
       "      <td>IR1</td>\n",
       "      <td>Lvl</td>\n",
       "      <td>AllPub</td>\n",
       "      <td>...</td>\n",
       "      <td>0</td>\n",
       "      <td>0</td>\n",
       "      <td>NaN</td>\n",
       "      <td>NaN</td>\n",
       "      <td>NaN</td>\n",
       "      <td>0</td>\n",
       "      <td>12</td>\n",
       "      <td>2008</td>\n",
       "      <td>WD</td>\n",
       "      <td>Normal</td>\n",
       "    </tr>\n",
       "  </tbody>\n",
       "</table>\n",
       "<p>5 rows × 80 columns</p>\n",
       "</div>"
      ],
      "text/plain": [
       "   Id  MSSubClass MSZoning  LotFrontage  LotArea Street Alley LotShape  \\\n",
       "0   1          60       RL         65.0     8450   Pave   NaN      Reg   \n",
       "1   2          20       RL         80.0     9600   Pave   NaN      Reg   \n",
       "2   3          60       RL         68.0    11250   Pave   NaN      IR1   \n",
       "3   4          70       RL         60.0     9550   Pave   NaN      IR1   \n",
       "4   5          60       RL         84.0    14260   Pave   NaN      IR1   \n",
       "\n",
       "  LandContour Utilities  ... ScreenPorch PoolArea PoolQC Fence MiscFeature  \\\n",
       "0         Lvl    AllPub  ...           0        0    NaN   NaN         NaN   \n",
       "1         Lvl    AllPub  ...           0        0    NaN   NaN         NaN   \n",
       "2         Lvl    AllPub  ...           0        0    NaN   NaN         NaN   \n",
       "3         Lvl    AllPub  ...           0        0    NaN   NaN         NaN   \n",
       "4         Lvl    AllPub  ...           0        0    NaN   NaN         NaN   \n",
       "\n",
       "  MiscVal MoSold  YrSold  SaleType  SaleCondition  \n",
       "0       0      2    2008        WD         Normal  \n",
       "1       0      5    2007        WD         Normal  \n",
       "2       0      9    2008        WD         Normal  \n",
       "3       0      2    2006        WD        Abnorml  \n",
       "4       0     12    2008        WD         Normal  \n",
       "\n",
       "[5 rows x 80 columns]"
      ]
     },
     "execution_count": 55,
     "metadata": {},
     "output_type": "execute_result"
    }
   ],
   "source": [
    "df.head()"
   ]
  },
  {
   "cell_type": "code",
   "execution_count": 56,
   "metadata": {},
   "outputs": [],
   "source": [
    "df.drop(['Id'],axis=1,inplace=True)"
   ]
  },
  {
   "cell_type": "code",
   "execution_count": 57,
   "metadata": {},
   "outputs": [
    {
     "data": {
      "text/html": [
       "<div>\n",
       "<style scoped>\n",
       "    .dataframe tbody tr th:only-of-type {\n",
       "        vertical-align: middle;\n",
       "    }\n",
       "\n",
       "    .dataframe tbody tr th {\n",
       "        vertical-align: top;\n",
       "    }\n",
       "\n",
       "    .dataframe thead th {\n",
       "        text-align: right;\n",
       "    }\n",
       "</style>\n",
       "<table border=\"1\" class=\"dataframe\">\n",
       "  <thead>\n",
       "    <tr style=\"text-align: right;\">\n",
       "      <th></th>\n",
       "      <th>MSSubClass</th>\n",
       "      <th>LotFrontage</th>\n",
       "      <th>LotArea</th>\n",
       "      <th>OverallQual</th>\n",
       "      <th>OverallCond</th>\n",
       "      <th>YearBuilt</th>\n",
       "      <th>YearRemodAdd</th>\n",
       "      <th>MasVnrArea</th>\n",
       "      <th>BsmtFinSF1</th>\n",
       "      <th>BsmtFinSF2</th>\n",
       "      <th>...</th>\n",
       "      <th>GarageArea</th>\n",
       "      <th>WoodDeckSF</th>\n",
       "      <th>OpenPorchSF</th>\n",
       "      <th>EnclosedPorch</th>\n",
       "      <th>3SsnPorch</th>\n",
       "      <th>ScreenPorch</th>\n",
       "      <th>PoolArea</th>\n",
       "      <th>MiscVal</th>\n",
       "      <th>MoSold</th>\n",
       "      <th>YrSold</th>\n",
       "    </tr>\n",
       "  </thead>\n",
       "  <tbody>\n",
       "    <tr>\n",
       "      <th>MSSubClass</th>\n",
       "      <td>1.000000</td>\n",
       "      <td>-0.417359</td>\n",
       "      <td>-0.201730</td>\n",
       "      <td>0.033638</td>\n",
       "      <td>-0.065625</td>\n",
       "      <td>0.034409</td>\n",
       "      <td>0.043315</td>\n",
       "      <td>0.005433</td>\n",
       "      <td>-0.064311</td>\n",
       "      <td>-0.072530</td>\n",
       "      <td>...</td>\n",
       "      <td>-0.103394</td>\n",
       "      <td>-0.017654</td>\n",
       "      <td>-0.015923</td>\n",
       "      <td>-0.020867</td>\n",
       "      <td>-0.037529</td>\n",
       "      <td>-0.049181</td>\n",
       "      <td>-0.003080</td>\n",
       "      <td>-0.028867</td>\n",
       "      <td>-0.001231</td>\n",
       "      <td>-0.015028</td>\n",
       "    </tr>\n",
       "    <tr>\n",
       "      <th>LotFrontage</th>\n",
       "      <td>-0.417359</td>\n",
       "      <td>1.000000</td>\n",
       "      <td>0.489896</td>\n",
       "      <td>0.217645</td>\n",
       "      <td>-0.075508</td>\n",
       "      <td>0.122811</td>\n",
       "      <td>0.091557</td>\n",
       "      <td>0.221079</td>\n",
       "      <td>0.219408</td>\n",
       "      <td>0.047431</td>\n",
       "      <td>...</td>\n",
       "      <td>0.359786</td>\n",
       "      <td>0.122070</td>\n",
       "      <td>0.164896</td>\n",
       "      <td>0.011509</td>\n",
       "      <td>0.028289</td>\n",
       "      <td>0.075858</td>\n",
       "      <td>0.174119</td>\n",
       "      <td>0.044272</td>\n",
       "      <td>0.011254</td>\n",
       "      <td>-0.007917</td>\n",
       "    </tr>\n",
       "    <tr>\n",
       "      <th>LotArea</th>\n",
       "      <td>-0.201730</td>\n",
       "      <td>0.489896</td>\n",
       "      <td>1.000000</td>\n",
       "      <td>0.100541</td>\n",
       "      <td>-0.035617</td>\n",
       "      <td>0.024128</td>\n",
       "      <td>0.021612</td>\n",
       "      <td>0.125596</td>\n",
       "      <td>0.194031</td>\n",
       "      <td>0.084059</td>\n",
       "      <td>...</td>\n",
       "      <td>0.213251</td>\n",
       "      <td>0.158045</td>\n",
       "      <td>0.104797</td>\n",
       "      <td>0.020974</td>\n",
       "      <td>0.015995</td>\n",
       "      <td>0.054375</td>\n",
       "      <td>0.093708</td>\n",
       "      <td>0.069029</td>\n",
       "      <td>0.004156</td>\n",
       "      <td>-0.024234</td>\n",
       "    </tr>\n",
       "    <tr>\n",
       "      <th>OverallQual</th>\n",
       "      <td>0.033638</td>\n",
       "      <td>0.217645</td>\n",
       "      <td>0.100541</td>\n",
       "      <td>1.000000</td>\n",
       "      <td>-0.093847</td>\n",
       "      <td>0.597554</td>\n",
       "      <td>0.571532</td>\n",
       "      <td>0.432947</td>\n",
       "      <td>0.281810</td>\n",
       "      <td>-0.042771</td>\n",
       "      <td>...</td>\n",
       "      <td>0.565122</td>\n",
       "      <td>0.255317</td>\n",
       "      <td>0.298084</td>\n",
       "      <td>-0.139256</td>\n",
       "      <td>0.018715</td>\n",
       "      <td>0.042910</td>\n",
       "      <td>0.030740</td>\n",
       "      <td>0.005562</td>\n",
       "      <td>0.030405</td>\n",
       "      <td>-0.019614</td>\n",
       "    </tr>\n",
       "    <tr>\n",
       "      <th>OverallCond</th>\n",
       "      <td>-0.065625</td>\n",
       "      <td>-0.075508</td>\n",
       "      <td>-0.035617</td>\n",
       "      <td>-0.093847</td>\n",
       "      <td>1.000000</td>\n",
       "      <td>-0.368477</td>\n",
       "      <td>0.047654</td>\n",
       "      <td>-0.136007</td>\n",
       "      <td>-0.050418</td>\n",
       "      <td>0.041501</td>\n",
       "      <td>...</td>\n",
       "      <td>-0.154149</td>\n",
       "      <td>0.020123</td>\n",
       "      <td>-0.068978</td>\n",
       "      <td>0.071044</td>\n",
       "      <td>0.043739</td>\n",
       "      <td>0.043713</td>\n",
       "      <td>-0.016876</td>\n",
       "      <td>0.033956</td>\n",
       "      <td>-0.006256</td>\n",
       "      <td>0.030102</td>\n",
       "    </tr>\n",
       "    <tr>\n",
       "      <th>YearBuilt</th>\n",
       "      <td>0.034409</td>\n",
       "      <td>0.122811</td>\n",
       "      <td>0.024128</td>\n",
       "      <td>0.597554</td>\n",
       "      <td>-0.368477</td>\n",
       "      <td>1.000000</td>\n",
       "      <td>0.612235</td>\n",
       "      <td>0.314051</td>\n",
       "      <td>0.279581</td>\n",
       "      <td>-0.027595</td>\n",
       "      <td>...</td>\n",
       "      <td>0.480735</td>\n",
       "      <td>0.229426</td>\n",
       "      <td>0.198554</td>\n",
       "      <td>-0.374073</td>\n",
       "      <td>0.015958</td>\n",
       "      <td>-0.041046</td>\n",
       "      <td>0.002304</td>\n",
       "      <td>-0.010886</td>\n",
       "      <td>0.013938</td>\n",
       "      <td>-0.012344</td>\n",
       "    </tr>\n",
       "    <tr>\n",
       "      <th>YearRemodAdd</th>\n",
       "      <td>0.043315</td>\n",
       "      <td>0.091557</td>\n",
       "      <td>0.021612</td>\n",
       "      <td>0.571532</td>\n",
       "      <td>0.047654</td>\n",
       "      <td>0.612235</td>\n",
       "      <td>1.000000</td>\n",
       "      <td>0.196875</td>\n",
       "      <td>0.152126</td>\n",
       "      <td>-0.062153</td>\n",
       "      <td>...</td>\n",
       "      <td>0.376765</td>\n",
       "      <td>0.218513</td>\n",
       "      <td>0.242182</td>\n",
       "      <td>-0.220456</td>\n",
       "      <td>0.037433</td>\n",
       "      <td>-0.046878</td>\n",
       "      <td>-0.011407</td>\n",
       "      <td>-0.003124</td>\n",
       "      <td>0.017693</td>\n",
       "      <td>0.033203</td>\n",
       "    </tr>\n",
       "    <tr>\n",
       "      <th>MasVnrArea</th>\n",
       "      <td>0.005433</td>\n",
       "      <td>0.221079</td>\n",
       "      <td>0.125596</td>\n",
       "      <td>0.432947</td>\n",
       "      <td>-0.136007</td>\n",
       "      <td>0.314051</td>\n",
       "      <td>0.196875</td>\n",
       "      <td>1.000000</td>\n",
       "      <td>0.303490</td>\n",
       "      <td>-0.015645</td>\n",
       "      <td>...</td>\n",
       "      <td>0.374061</td>\n",
       "      <td>0.166200</td>\n",
       "      <td>0.144650</td>\n",
       "      <td>-0.111499</td>\n",
       "      <td>0.013612</td>\n",
       "      <td>0.065209</td>\n",
       "      <td>0.004512</td>\n",
       "      <td>0.044811</td>\n",
       "      <td>-0.000117</td>\n",
       "      <td>-0.018510</td>\n",
       "    </tr>\n",
       "    <tr>\n",
       "      <th>BsmtFinSF1</th>\n",
       "      <td>-0.064311</td>\n",
       "      <td>0.219408</td>\n",
       "      <td>0.194031</td>\n",
       "      <td>0.281810</td>\n",
       "      <td>-0.050418</td>\n",
       "      <td>0.279581</td>\n",
       "      <td>0.152126</td>\n",
       "      <td>0.303490</td>\n",
       "      <td>1.000000</td>\n",
       "      <td>-0.055045</td>\n",
       "      <td>...</td>\n",
       "      <td>0.310449</td>\n",
       "      <td>0.223492</td>\n",
       "      <td>0.124163</td>\n",
       "      <td>-0.099712</td>\n",
       "      <td>0.050908</td>\n",
       "      <td>0.096823</td>\n",
       "      <td>0.084462</td>\n",
       "      <td>0.093295</td>\n",
       "      <td>-0.000942</td>\n",
       "      <td>0.022556</td>\n",
       "    </tr>\n",
       "    <tr>\n",
       "      <th>BsmtFinSF2</th>\n",
       "      <td>-0.072530</td>\n",
       "      <td>0.047431</td>\n",
       "      <td>0.084059</td>\n",
       "      <td>-0.042771</td>\n",
       "      <td>0.041501</td>\n",
       "      <td>-0.027595</td>\n",
       "      <td>-0.062153</td>\n",
       "      <td>-0.015645</td>\n",
       "      <td>-0.055045</td>\n",
       "      <td>1.000000</td>\n",
       "      <td>...</td>\n",
       "      <td>0.003139</td>\n",
       "      <td>0.098399</td>\n",
       "      <td>-0.005876</td>\n",
       "      <td>0.032740</td>\n",
       "      <td>-0.023279</td>\n",
       "      <td>0.063302</td>\n",
       "      <td>0.044524</td>\n",
       "      <td>-0.005139</td>\n",
       "      <td>-0.009593</td>\n",
       "      <td>0.008883</td>\n",
       "    </tr>\n",
       "    <tr>\n",
       "      <th>BsmtUnfSF</th>\n",
       "      <td>-0.125994</td>\n",
       "      <td>0.113714</td>\n",
       "      <td>0.021362</td>\n",
       "      <td>0.275175</td>\n",
       "      <td>-0.138202</td>\n",
       "      <td>0.130473</td>\n",
       "      <td>0.165175</td>\n",
       "      <td>0.090163</td>\n",
       "      <td>-0.477404</td>\n",
       "      <td>-0.238241</td>\n",
       "      <td>...</td>\n",
       "      <td>0.164409</td>\n",
       "      <td>-0.039302</td>\n",
       "      <td>0.119764</td>\n",
       "      <td>0.005006</td>\n",
       "      <td>-0.005810</td>\n",
       "      <td>-0.049158</td>\n",
       "      <td>-0.032273</td>\n",
       "      <td>-0.010492</td>\n",
       "      <td>0.022607</td>\n",
       "      <td>-0.038015</td>\n",
       "    </tr>\n",
       "    <tr>\n",
       "      <th>TotalBsmtSF</th>\n",
       "      <td>-0.219965</td>\n",
       "      <td>0.354822</td>\n",
       "      <td>0.254138</td>\n",
       "      <td>0.549294</td>\n",
       "      <td>-0.174002</td>\n",
       "      <td>0.408515</td>\n",
       "      <td>0.298107</td>\n",
       "      <td>0.397240</td>\n",
       "      <td>0.536467</td>\n",
       "      <td>0.089410</td>\n",
       "      <td>...</td>\n",
       "      <td>0.486067</td>\n",
       "      <td>0.229600</td>\n",
       "      <td>0.245521</td>\n",
       "      <td>-0.085510</td>\n",
       "      <td>0.037892</td>\n",
       "      <td>0.075363</td>\n",
       "      <td>0.072216</td>\n",
       "      <td>0.084002</td>\n",
       "      <td>0.017888</td>\n",
       "      <td>-0.011184</td>\n",
       "    </tr>\n",
       "    <tr>\n",
       "      <th>1stFlrSF</th>\n",
       "      <td>-0.248641</td>\n",
       "      <td>0.458247</td>\n",
       "      <td>0.332460</td>\n",
       "      <td>0.479152</td>\n",
       "      <td>-0.157418</td>\n",
       "      <td>0.310814</td>\n",
       "      <td>0.242245</td>\n",
       "      <td>0.395834</td>\n",
       "      <td>0.458092</td>\n",
       "      <td>0.084330</td>\n",
       "      <td>...</td>\n",
       "      <td>0.492011</td>\n",
       "      <td>0.227347</td>\n",
       "      <td>0.238502</td>\n",
       "      <td>-0.065796</td>\n",
       "      <td>0.044086</td>\n",
       "      <td>0.098381</td>\n",
       "      <td>0.121900</td>\n",
       "      <td>0.093062</td>\n",
       "      <td>0.040143</td>\n",
       "      <td>-0.013442</td>\n",
       "    </tr>\n",
       "    <tr>\n",
       "      <th>2ndFlrSF</th>\n",
       "      <td>0.309309</td>\n",
       "      <td>0.026545</td>\n",
       "      <td>0.031515</td>\n",
       "      <td>0.245596</td>\n",
       "      <td>0.005494</td>\n",
       "      <td>0.017588</td>\n",
       "      <td>0.158985</td>\n",
       "      <td>0.121014</td>\n",
       "      <td>-0.162301</td>\n",
       "      <td>-0.097744</td>\n",
       "      <td>...</td>\n",
       "      <td>0.128570</td>\n",
       "      <td>0.089922</td>\n",
       "      <td>0.185387</td>\n",
       "      <td>0.054645</td>\n",
       "      <td>-0.032458</td>\n",
       "      <td>0.011070</td>\n",
       "      <td>0.044503</td>\n",
       "      <td>-0.005299</td>\n",
       "      <td>0.014185</td>\n",
       "      <td>-0.019229</td>\n",
       "    </tr>\n",
       "    <tr>\n",
       "      <th>LowQualFinSF</th>\n",
       "      <td>0.026482</td>\n",
       "      <td>0.004894</td>\n",
       "      <td>0.000554</td>\n",
       "      <td>-0.048393</td>\n",
       "      <td>0.009048</td>\n",
       "      <td>-0.144191</td>\n",
       "      <td>-0.060371</td>\n",
       "      <td>-0.057912</td>\n",
       "      <td>-0.066028</td>\n",
       "      <td>-0.004923</td>\n",
       "      <td>...</td>\n",
       "      <td>-0.053551</td>\n",
       "      <td>-0.015622</td>\n",
       "      <td>-0.000692</td>\n",
       "      <td>0.087212</td>\n",
       "      <td>-0.004545</td>\n",
       "      <td>0.006835</td>\n",
       "      <td>0.035177</td>\n",
       "      <td>-0.005973</td>\n",
       "      <td>0.011528</td>\n",
       "      <td>-0.002257</td>\n",
       "    </tr>\n",
       "    <tr>\n",
       "      <th>GrLivArea</th>\n",
       "      <td>0.071677</td>\n",
       "      <td>0.382462</td>\n",
       "      <td>0.284519</td>\n",
       "      <td>0.575126</td>\n",
       "      <td>-0.116569</td>\n",
       "      <td>0.242666</td>\n",
       "      <td>0.316972</td>\n",
       "      <td>0.402994</td>\n",
       "      <td>0.211669</td>\n",
       "      <td>-0.017872</td>\n",
       "      <td>...</td>\n",
       "      <td>0.485469</td>\n",
       "      <td>0.251017</td>\n",
       "      <td>0.341907</td>\n",
       "      <td>0.003274</td>\n",
       "      <td>0.006268</td>\n",
       "      <td>0.086284</td>\n",
       "      <td>0.135441</td>\n",
       "      <td>0.067118</td>\n",
       "      <td>0.044198</td>\n",
       "      <td>-0.026919</td>\n",
       "    </tr>\n",
       "    <tr>\n",
       "      <th>BsmtFullBath</th>\n",
       "      <td>0.009950</td>\n",
       "      <td>0.113245</td>\n",
       "      <td>0.128349</td>\n",
       "      <td>0.164543</td>\n",
       "      <td>-0.042133</td>\n",
       "      <td>0.211580</td>\n",
       "      <td>0.134947</td>\n",
       "      <td>0.141593</td>\n",
       "      <td>0.638847</td>\n",
       "      <td>0.162835</td>\n",
       "      <td>...</td>\n",
       "      <td>0.184738</td>\n",
       "      <td>0.186107</td>\n",
       "      <td>0.081265</td>\n",
       "      <td>-0.068393</td>\n",
       "      <td>0.027378</td>\n",
       "      <td>0.053119</td>\n",
       "      <td>0.043970</td>\n",
       "      <td>-0.004629</td>\n",
       "      <td>-0.003568</td>\n",
       "      <td>0.045255</td>\n",
       "    </tr>\n",
       "    <tr>\n",
       "      <th>BsmtHalfBath</th>\n",
       "      <td>-0.001878</td>\n",
       "      <td>-0.025629</td>\n",
       "      <td>0.026292</td>\n",
       "      <td>-0.040732</td>\n",
       "      <td>0.084181</td>\n",
       "      <td>-0.030282</td>\n",
       "      <td>-0.046285</td>\n",
       "      <td>0.015006</td>\n",
       "      <td>0.078361</td>\n",
       "      <td>0.099485</td>\n",
       "      <td>...</td>\n",
       "      <td>-0.021445</td>\n",
       "      <td>0.051549</td>\n",
       "      <td>-0.034917</td>\n",
       "      <td>-0.009675</td>\n",
       "      <td>0.026861</td>\n",
       "      <td>0.042069</td>\n",
       "      <td>0.066851</td>\n",
       "      <td>0.036902</td>\n",
       "      <td>0.023014</td>\n",
       "      <td>-0.020028</td>\n",
       "    </tr>\n",
       "    <tr>\n",
       "      <th>FullBath</th>\n",
       "      <td>0.139140</td>\n",
       "      <td>0.181668</td>\n",
       "      <td>0.125826</td>\n",
       "      <td>0.528483</td>\n",
       "      <td>-0.215504</td>\n",
       "      <td>0.471169</td>\n",
       "      <td>0.457980</td>\n",
       "      <td>0.259777</td>\n",
       "      <td>0.081525</td>\n",
       "      <td>-0.075432</td>\n",
       "      <td>...</td>\n",
       "      <td>0.408487</td>\n",
       "      <td>0.181266</td>\n",
       "      <td>0.260423</td>\n",
       "      <td>-0.118983</td>\n",
       "      <td>0.015192</td>\n",
       "      <td>-0.015910</td>\n",
       "      <td>0.028091</td>\n",
       "      <td>-0.010024</td>\n",
       "      <td>0.046274</td>\n",
       "      <td>-0.004882</td>\n",
       "    </tr>\n",
       "    <tr>\n",
       "      <th>HalfBath</th>\n",
       "      <td>0.178750</td>\n",
       "      <td>0.039452</td>\n",
       "      <td>0.034244</td>\n",
       "      <td>0.272668</td>\n",
       "      <td>-0.088577</td>\n",
       "      <td>0.269743</td>\n",
       "      <td>0.211430</td>\n",
       "      <td>0.191950</td>\n",
       "      <td>-0.007311</td>\n",
       "      <td>-0.032448</td>\n",
       "      <td>...</td>\n",
       "      <td>0.178993</td>\n",
       "      <td>0.116701</td>\n",
       "      <td>0.182048</td>\n",
       "      <td>-0.081978</td>\n",
       "      <td>-0.023417</td>\n",
       "      <td>0.035622</td>\n",
       "      <td>0.001424</td>\n",
       "      <td>0.026553</td>\n",
       "      <td>-0.001136</td>\n",
       "      <td>0.001587</td>\n",
       "    </tr>\n",
       "    <tr>\n",
       "      <th>BedroomAbvGr</th>\n",
       "      <td>-0.008796</td>\n",
       "      <td>0.234892</td>\n",
       "      <td>0.132801</td>\n",
       "      <td>0.073075</td>\n",
       "      <td>-0.008477</td>\n",
       "      <td>-0.053101</td>\n",
       "      <td>-0.021912</td>\n",
       "      <td>0.078126</td>\n",
       "      <td>-0.113547</td>\n",
       "      <td>-0.031223</td>\n",
       "      <td>...</td>\n",
       "      <td>0.073912</td>\n",
       "      <td>0.031644</td>\n",
       "      <td>0.086212</td>\n",
       "      <td>0.049940</td>\n",
       "      <td>-0.048279</td>\n",
       "      <td>0.007254</td>\n",
       "      <td>0.036544</td>\n",
       "      <td>0.000245</td>\n",
       "      <td>0.055997</td>\n",
       "      <td>-0.020453</td>\n",
       "    </tr>\n",
       "    <tr>\n",
       "      <th>KitchenAbvGr</th>\n",
       "      <td>0.260155</td>\n",
       "      <td>0.004676</td>\n",
       "      <td>-0.020854</td>\n",
       "      <td>-0.159325</td>\n",
       "      <td>-0.086700</td>\n",
       "      <td>-0.137614</td>\n",
       "      <td>-0.142431</td>\n",
       "      <td>-0.051389</td>\n",
       "      <td>-0.086354</td>\n",
       "      <td>-0.037779</td>\n",
       "      <td>...</td>\n",
       "      <td>-0.057852</td>\n",
       "      <td>-0.087399</td>\n",
       "      <td>-0.068181</td>\n",
       "      <td>0.027639</td>\n",
       "      <td>-0.021462</td>\n",
       "      <td>-0.056573</td>\n",
       "      <td>-0.013116</td>\n",
       "      <td>0.025078</td>\n",
       "      <td>0.035493</td>\n",
       "      <td>0.035173</td>\n",
       "    </tr>\n",
       "    <tr>\n",
       "      <th>TotRmsAbvGrd</th>\n",
       "      <td>0.040509</td>\n",
       "      <td>0.349513</td>\n",
       "      <td>0.213802</td>\n",
       "      <td>0.389761</td>\n",
       "      <td>-0.092027</td>\n",
       "      <td>0.114280</td>\n",
       "      <td>0.198250</td>\n",
       "      <td>0.278228</td>\n",
       "      <td>0.052141</td>\n",
       "      <td>-0.048423</td>\n",
       "      <td>...</td>\n",
       "      <td>0.328687</td>\n",
       "      <td>0.156543</td>\n",
       "      <td>0.238156</td>\n",
       "      <td>0.015345</td>\n",
       "      <td>-0.025764</td>\n",
       "      <td>0.032324</td>\n",
       "      <td>0.072061</td>\n",
       "      <td>0.060903</td>\n",
       "      <td>0.045137</td>\n",
       "      <td>-0.032354</td>\n",
       "    </tr>\n",
       "    <tr>\n",
       "      <th>Fireplaces</th>\n",
       "      <td>-0.055151</td>\n",
       "      <td>0.261970</td>\n",
       "      <td>0.261185</td>\n",
       "      <td>0.390753</td>\n",
       "      <td>-0.030999</td>\n",
       "      <td>0.170680</td>\n",
       "      <td>0.134157</td>\n",
       "      <td>0.275195</td>\n",
       "      <td>0.293089</td>\n",
       "      <td>0.065625</td>\n",
       "      <td>...</td>\n",
       "      <td>0.294767</td>\n",
       "      <td>0.227608</td>\n",
       "      <td>0.158621</td>\n",
       "      <td>0.000971</td>\n",
       "      <td>0.018852</td>\n",
       "      <td>0.169784</td>\n",
       "      <td>0.099123</td>\n",
       "      <td>0.008535</td>\n",
       "      <td>0.032352</td>\n",
       "      <td>-0.006752</td>\n",
       "    </tr>\n",
       "    <tr>\n",
       "      <th>GarageYrBlt</th>\n",
       "      <td>0.087898</td>\n",
       "      <td>0.076673</td>\n",
       "      <td>-0.008628</td>\n",
       "      <td>0.571803</td>\n",
       "      <td>-0.325849</td>\n",
       "      <td>0.834812</td>\n",
       "      <td>0.652365</td>\n",
       "      <td>0.255112</td>\n",
       "      <td>0.194270</td>\n",
       "      <td>-0.068549</td>\n",
       "      <td>...</td>\n",
       "      <td>0.555836</td>\n",
       "      <td>0.222584</td>\n",
       "      <td>0.231639</td>\n",
       "      <td>-0.300751</td>\n",
       "      <td>0.020699</td>\n",
       "      <td>-0.062320</td>\n",
       "      <td>-0.014467</td>\n",
       "      <td>-0.009203</td>\n",
       "      <td>0.024017</td>\n",
       "      <td>-0.004543</td>\n",
       "    </tr>\n",
       "    <tr>\n",
       "      <th>GarageCars</th>\n",
       "      <td>-0.046597</td>\n",
       "      <td>0.310587</td>\n",
       "      <td>0.180434</td>\n",
       "      <td>0.600744</td>\n",
       "      <td>-0.181787</td>\n",
       "      <td>0.538074</td>\n",
       "      <td>0.426022</td>\n",
       "      <td>0.361190</td>\n",
       "      <td>0.255482</td>\n",
       "      <td>-0.014827</td>\n",
       "      <td>...</td>\n",
       "      <td>0.889700</td>\n",
       "      <td>0.240715</td>\n",
       "      <td>0.203544</td>\n",
       "      <td>-0.132846</td>\n",
       "      <td>0.023383</td>\n",
       "      <td>0.043112</td>\n",
       "      <td>0.030424</td>\n",
       "      <td>-0.016934</td>\n",
       "      <td>0.050882</td>\n",
       "      <td>-0.022918</td>\n",
       "    </tr>\n",
       "    <tr>\n",
       "      <th>GarageArea</th>\n",
       "      <td>-0.103394</td>\n",
       "      <td>0.359786</td>\n",
       "      <td>0.213251</td>\n",
       "      <td>0.565122</td>\n",
       "      <td>-0.154149</td>\n",
       "      <td>0.480735</td>\n",
       "      <td>0.376765</td>\n",
       "      <td>0.374061</td>\n",
       "      <td>0.310449</td>\n",
       "      <td>0.003139</td>\n",
       "      <td>...</td>\n",
       "      <td>1.000000</td>\n",
       "      <td>0.238075</td>\n",
       "      <td>0.232559</td>\n",
       "      <td>-0.106417</td>\n",
       "      <td>0.029440</td>\n",
       "      <td>0.062389</td>\n",
       "      <td>0.053049</td>\n",
       "      <td>0.008446</td>\n",
       "      <td>0.040335</td>\n",
       "      <td>-0.013451</td>\n",
       "    </tr>\n",
       "    <tr>\n",
       "      <th>WoodDeckSF</th>\n",
       "      <td>-0.017654</td>\n",
       "      <td>0.122070</td>\n",
       "      <td>0.158045</td>\n",
       "      <td>0.255317</td>\n",
       "      <td>0.020123</td>\n",
       "      <td>0.229426</td>\n",
       "      <td>0.218513</td>\n",
       "      <td>0.166200</td>\n",
       "      <td>0.223492</td>\n",
       "      <td>0.098399</td>\n",
       "      <td>...</td>\n",
       "      <td>0.238075</td>\n",
       "      <td>1.000000</td>\n",
       "      <td>0.038457</td>\n",
       "      <td>-0.119114</td>\n",
       "      <td>-0.003935</td>\n",
       "      <td>-0.052134</td>\n",
       "      <td>0.094231</td>\n",
       "      <td>0.056883</td>\n",
       "      <td>0.018120</td>\n",
       "      <td>-0.000180</td>\n",
       "    </tr>\n",
       "    <tr>\n",
       "      <th>OpenPorchSF</th>\n",
       "      <td>-0.015923</td>\n",
       "      <td>0.164896</td>\n",
       "      <td>0.104797</td>\n",
       "      <td>0.298084</td>\n",
       "      <td>-0.068978</td>\n",
       "      <td>0.198554</td>\n",
       "      <td>0.242182</td>\n",
       "      <td>0.144650</td>\n",
       "      <td>0.124163</td>\n",
       "      <td>-0.005876</td>\n",
       "      <td>...</td>\n",
       "      <td>0.232559</td>\n",
       "      <td>0.038457</td>\n",
       "      <td>1.000000</td>\n",
       "      <td>-0.059672</td>\n",
       "      <td>-0.009392</td>\n",
       "      <td>0.047777</td>\n",
       "      <td>0.064212</td>\n",
       "      <td>0.077357</td>\n",
       "      <td>0.034167</td>\n",
       "      <td>-0.037377</td>\n",
       "    </tr>\n",
       "    <tr>\n",
       "      <th>EnclosedPorch</th>\n",
       "      <td>-0.020867</td>\n",
       "      <td>0.011509</td>\n",
       "      <td>0.020974</td>\n",
       "      <td>-0.139256</td>\n",
       "      <td>0.071044</td>\n",
       "      <td>-0.374073</td>\n",
       "      <td>-0.220456</td>\n",
       "      <td>-0.111499</td>\n",
       "      <td>-0.099712</td>\n",
       "      <td>0.032740</td>\n",
       "      <td>...</td>\n",
       "      <td>-0.106417</td>\n",
       "      <td>-0.119114</td>\n",
       "      <td>-0.059672</td>\n",
       "      <td>1.000000</td>\n",
       "      <td>-0.032822</td>\n",
       "      <td>-0.064377</td>\n",
       "      <td>0.092534</td>\n",
       "      <td>0.008654</td>\n",
       "      <td>-0.020976</td>\n",
       "      <td>-0.001134</td>\n",
       "    </tr>\n",
       "    <tr>\n",
       "      <th>3SsnPorch</th>\n",
       "      <td>-0.037529</td>\n",
       "      <td>0.028289</td>\n",
       "      <td>0.015995</td>\n",
       "      <td>0.018715</td>\n",
       "      <td>0.043739</td>\n",
       "      <td>0.015958</td>\n",
       "      <td>0.037433</td>\n",
       "      <td>0.013612</td>\n",
       "      <td>0.050908</td>\n",
       "      <td>-0.023279</td>\n",
       "      <td>...</td>\n",
       "      <td>0.029440</td>\n",
       "      <td>-0.003935</td>\n",
       "      <td>-0.009392</td>\n",
       "      <td>-0.032822</td>\n",
       "      <td>1.000000</td>\n",
       "      <td>-0.029546</td>\n",
       "      <td>-0.006525</td>\n",
       "      <td>-0.000788</td>\n",
       "      <td>0.027391</td>\n",
       "      <td>0.022560</td>\n",
       "    </tr>\n",
       "    <tr>\n",
       "      <th>ScreenPorch</th>\n",
       "      <td>-0.049181</td>\n",
       "      <td>0.075858</td>\n",
       "      <td>0.054375</td>\n",
       "      <td>0.042910</td>\n",
       "      <td>0.043713</td>\n",
       "      <td>-0.041046</td>\n",
       "      <td>-0.046878</td>\n",
       "      <td>0.065209</td>\n",
       "      <td>0.096823</td>\n",
       "      <td>0.063302</td>\n",
       "      <td>...</td>\n",
       "      <td>0.062389</td>\n",
       "      <td>-0.052134</td>\n",
       "      <td>0.047777</td>\n",
       "      <td>-0.064377</td>\n",
       "      <td>-0.029546</td>\n",
       "      <td>1.000000</td>\n",
       "      <td>0.026319</td>\n",
       "      <td>0.007067</td>\n",
       "      <td>0.028535</td>\n",
       "      <td>-0.006634</td>\n",
       "    </tr>\n",
       "    <tr>\n",
       "      <th>PoolArea</th>\n",
       "      <td>-0.003080</td>\n",
       "      <td>0.174119</td>\n",
       "      <td>0.093708</td>\n",
       "      <td>0.030740</td>\n",
       "      <td>-0.016876</td>\n",
       "      <td>0.002304</td>\n",
       "      <td>-0.011407</td>\n",
       "      <td>0.004512</td>\n",
       "      <td>0.084462</td>\n",
       "      <td>0.044524</td>\n",
       "      <td>...</td>\n",
       "      <td>0.053049</td>\n",
       "      <td>0.094231</td>\n",
       "      <td>0.064212</td>\n",
       "      <td>0.092534</td>\n",
       "      <td>-0.006525</td>\n",
       "      <td>0.026319</td>\n",
       "      <td>1.000000</td>\n",
       "      <td>0.011921</td>\n",
       "      <td>-0.042230</td>\n",
       "      <td>-0.052816</td>\n",
       "    </tr>\n",
       "    <tr>\n",
       "      <th>MiscVal</th>\n",
       "      <td>-0.028867</td>\n",
       "      <td>0.044272</td>\n",
       "      <td>0.069029</td>\n",
       "      <td>0.005562</td>\n",
       "      <td>0.033956</td>\n",
       "      <td>-0.010886</td>\n",
       "      <td>-0.003124</td>\n",
       "      <td>0.044811</td>\n",
       "      <td>0.093295</td>\n",
       "      <td>-0.005139</td>\n",
       "      <td>...</td>\n",
       "      <td>0.008446</td>\n",
       "      <td>0.056883</td>\n",
       "      <td>0.077357</td>\n",
       "      <td>0.008654</td>\n",
       "      <td>-0.000788</td>\n",
       "      <td>0.007067</td>\n",
       "      <td>0.011921</td>\n",
       "      <td>1.000000</td>\n",
       "      <td>0.007443</td>\n",
       "      <td>0.008445</td>\n",
       "    </tr>\n",
       "    <tr>\n",
       "      <th>MoSold</th>\n",
       "      <td>-0.001231</td>\n",
       "      <td>0.011254</td>\n",
       "      <td>0.004156</td>\n",
       "      <td>0.030405</td>\n",
       "      <td>-0.006256</td>\n",
       "      <td>0.013938</td>\n",
       "      <td>0.017693</td>\n",
       "      <td>-0.000117</td>\n",
       "      <td>-0.000942</td>\n",
       "      <td>-0.009593</td>\n",
       "      <td>...</td>\n",
       "      <td>0.040335</td>\n",
       "      <td>0.018120</td>\n",
       "      <td>0.034167</td>\n",
       "      <td>-0.020976</td>\n",
       "      <td>0.027391</td>\n",
       "      <td>0.028535</td>\n",
       "      <td>-0.042230</td>\n",
       "      <td>0.007443</td>\n",
       "      <td>1.000000</td>\n",
       "      <td>-0.153895</td>\n",
       "    </tr>\n",
       "    <tr>\n",
       "      <th>YrSold</th>\n",
       "      <td>-0.015028</td>\n",
       "      <td>-0.007917</td>\n",
       "      <td>-0.024234</td>\n",
       "      <td>-0.019614</td>\n",
       "      <td>0.030102</td>\n",
       "      <td>-0.012344</td>\n",
       "      <td>0.033203</td>\n",
       "      <td>-0.018510</td>\n",
       "      <td>0.022556</td>\n",
       "      <td>0.008883</td>\n",
       "      <td>...</td>\n",
       "      <td>-0.013451</td>\n",
       "      <td>-0.000180</td>\n",
       "      <td>-0.037377</td>\n",
       "      <td>-0.001134</td>\n",
       "      <td>0.022560</td>\n",
       "      <td>-0.006634</td>\n",
       "      <td>-0.052816</td>\n",
       "      <td>0.008445</td>\n",
       "      <td>-0.153895</td>\n",
       "      <td>1.000000</td>\n",
       "    </tr>\n",
       "  </tbody>\n",
       "</table>\n",
       "<p>36 rows × 36 columns</p>\n",
       "</div>"
      ],
      "text/plain": [
       "               MSSubClass  LotFrontage   LotArea  OverallQual  OverallCond  \\\n",
       "MSSubClass       1.000000    -0.417359 -0.201730     0.033638    -0.065625   \n",
       "LotFrontage     -0.417359     1.000000  0.489896     0.217645    -0.075508   \n",
       "LotArea         -0.201730     0.489896  1.000000     0.100541    -0.035617   \n",
       "OverallQual      0.033638     0.217645  0.100541     1.000000    -0.093847   \n",
       "OverallCond     -0.065625    -0.075508 -0.035617    -0.093847     1.000000   \n",
       "YearBuilt        0.034409     0.122811  0.024128     0.597554    -0.368477   \n",
       "YearRemodAdd     0.043315     0.091557  0.021612     0.571532     0.047654   \n",
       "MasVnrArea       0.005433     0.221079  0.125596     0.432947    -0.136007   \n",
       "BsmtFinSF1      -0.064311     0.219408  0.194031     0.281810    -0.050418   \n",
       "BsmtFinSF2      -0.072530     0.047431  0.084059    -0.042771     0.041501   \n",
       "BsmtUnfSF       -0.125994     0.113714  0.021362     0.275175    -0.138202   \n",
       "TotalBsmtSF     -0.219965     0.354822  0.254138     0.549294    -0.174002   \n",
       "1stFlrSF        -0.248641     0.458247  0.332460     0.479152    -0.157418   \n",
       "2ndFlrSF         0.309309     0.026545  0.031515     0.245596     0.005494   \n",
       "LowQualFinSF     0.026482     0.004894  0.000554    -0.048393     0.009048   \n",
       "GrLivArea        0.071677     0.382462  0.284519     0.575126    -0.116569   \n",
       "BsmtFullBath     0.009950     0.113245  0.128349     0.164543    -0.042133   \n",
       "BsmtHalfBath    -0.001878    -0.025629  0.026292    -0.040732     0.084181   \n",
       "FullBath         0.139140     0.181668  0.125826     0.528483    -0.215504   \n",
       "HalfBath         0.178750     0.039452  0.034244     0.272668    -0.088577   \n",
       "BedroomAbvGr    -0.008796     0.234892  0.132801     0.073075    -0.008477   \n",
       "KitchenAbvGr     0.260155     0.004676 -0.020854    -0.159325    -0.086700   \n",
       "TotRmsAbvGrd     0.040509     0.349513  0.213802     0.389761    -0.092027   \n",
       "Fireplaces      -0.055151     0.261970  0.261185     0.390753    -0.030999   \n",
       "GarageYrBlt      0.087898     0.076673 -0.008628     0.571803    -0.325849   \n",
       "GarageCars      -0.046597     0.310587  0.180434     0.600744    -0.181787   \n",
       "GarageArea      -0.103394     0.359786  0.213251     0.565122    -0.154149   \n",
       "WoodDeckSF      -0.017654     0.122070  0.158045     0.255317     0.020123   \n",
       "OpenPorchSF     -0.015923     0.164896  0.104797     0.298084    -0.068978   \n",
       "EnclosedPorch   -0.020867     0.011509  0.020974    -0.139256     0.071044   \n",
       "3SsnPorch       -0.037529     0.028289  0.015995     0.018715     0.043739   \n",
       "ScreenPorch     -0.049181     0.075858  0.054375     0.042910     0.043713   \n",
       "PoolArea        -0.003080     0.174119  0.093708     0.030740    -0.016876   \n",
       "MiscVal         -0.028867     0.044272  0.069029     0.005562     0.033956   \n",
       "MoSold          -0.001231     0.011254  0.004156     0.030405    -0.006256   \n",
       "YrSold          -0.015028    -0.007917 -0.024234    -0.019614     0.030102   \n",
       "\n",
       "               YearBuilt  YearRemodAdd  MasVnrArea  BsmtFinSF1  BsmtFinSF2  \\\n",
       "MSSubClass      0.034409      0.043315    0.005433   -0.064311   -0.072530   \n",
       "LotFrontage     0.122811      0.091557    0.221079    0.219408    0.047431   \n",
       "LotArea         0.024128      0.021612    0.125596    0.194031    0.084059   \n",
       "OverallQual     0.597554      0.571532    0.432947    0.281810   -0.042771   \n",
       "OverallCond    -0.368477      0.047654   -0.136007   -0.050418    0.041501   \n",
       "YearBuilt       1.000000      0.612235    0.314051    0.279581   -0.027595   \n",
       "YearRemodAdd    0.612235      1.000000    0.196875    0.152126   -0.062153   \n",
       "MasVnrArea      0.314051      0.196875    1.000000    0.303490   -0.015645   \n",
       "BsmtFinSF1      0.279581      0.152126    0.303490    1.000000   -0.055045   \n",
       "BsmtFinSF2     -0.027595     -0.062153   -0.015645   -0.055045    1.000000   \n",
       "BsmtUnfSF       0.130473      0.165175    0.090163   -0.477404   -0.238241   \n",
       "TotalBsmtSF     0.408515      0.298107    0.397240    0.536467    0.089410   \n",
       "1stFlrSF        0.310814      0.242245    0.395834    0.458092    0.084330   \n",
       "2ndFlrSF        0.017588      0.158985    0.121014   -0.162301   -0.097744   \n",
       "LowQualFinSF   -0.144191     -0.060371   -0.057912   -0.066028   -0.004923   \n",
       "GrLivArea       0.242666      0.316972    0.402994    0.211669   -0.017872   \n",
       "BsmtFullBath    0.211580      0.134947    0.141593    0.638847    0.162835   \n",
       "BsmtHalfBath   -0.030282     -0.046285    0.015006    0.078361    0.099485   \n",
       "FullBath        0.471169      0.457980    0.259777    0.081525   -0.075432   \n",
       "HalfBath        0.269743      0.211430    0.191950   -0.007311   -0.032448   \n",
       "BedroomAbvGr   -0.053101     -0.021912    0.078126   -0.113547   -0.031223   \n",
       "KitchenAbvGr   -0.137614     -0.142431   -0.051389   -0.086354   -0.037779   \n",
       "TotRmsAbvGrd    0.114280      0.198250    0.278228    0.052141   -0.048423   \n",
       "Fireplaces      0.170680      0.134157    0.275195    0.293089    0.065625   \n",
       "GarageYrBlt     0.834812      0.652365    0.255112    0.194270   -0.068549   \n",
       "GarageCars      0.538074      0.426022    0.361190    0.255482   -0.014827   \n",
       "GarageArea      0.480735      0.376765    0.374061    0.310449    0.003139   \n",
       "WoodDeckSF      0.229426      0.218513    0.166200    0.223492    0.098399   \n",
       "OpenPorchSF     0.198554      0.242182    0.144650    0.124163   -0.005876   \n",
       "EnclosedPorch  -0.374073     -0.220456   -0.111499   -0.099712    0.032740   \n",
       "3SsnPorch       0.015958      0.037433    0.013612    0.050908   -0.023279   \n",
       "ScreenPorch    -0.041046     -0.046878    0.065209    0.096823    0.063302   \n",
       "PoolArea        0.002304     -0.011407    0.004512    0.084462    0.044524   \n",
       "MiscVal        -0.010886     -0.003124    0.044811    0.093295   -0.005139   \n",
       "MoSold          0.013938      0.017693   -0.000117   -0.000942   -0.009593   \n",
       "YrSold         -0.012344      0.033203   -0.018510    0.022556    0.008883   \n",
       "\n",
       "               ...  GarageArea  WoodDeckSF  OpenPorchSF  EnclosedPorch  \\\n",
       "MSSubClass     ...   -0.103394   -0.017654    -0.015923      -0.020867   \n",
       "LotFrontage    ...    0.359786    0.122070     0.164896       0.011509   \n",
       "LotArea        ...    0.213251    0.158045     0.104797       0.020974   \n",
       "OverallQual    ...    0.565122    0.255317     0.298084      -0.139256   \n",
       "OverallCond    ...   -0.154149    0.020123    -0.068978       0.071044   \n",
       "YearBuilt      ...    0.480735    0.229426     0.198554      -0.374073   \n",
       "YearRemodAdd   ...    0.376765    0.218513     0.242182      -0.220456   \n",
       "MasVnrArea     ...    0.374061    0.166200     0.144650      -0.111499   \n",
       "BsmtFinSF1     ...    0.310449    0.223492     0.124163      -0.099712   \n",
       "BsmtFinSF2     ...    0.003139    0.098399    -0.005876       0.032740   \n",
       "BsmtUnfSF      ...    0.164409   -0.039302     0.119764       0.005006   \n",
       "TotalBsmtSF    ...    0.486067    0.229600     0.245521      -0.085510   \n",
       "1stFlrSF       ...    0.492011    0.227347     0.238502      -0.065796   \n",
       "2ndFlrSF       ...    0.128570    0.089922     0.185387       0.054645   \n",
       "LowQualFinSF   ...   -0.053551   -0.015622    -0.000692       0.087212   \n",
       "GrLivArea      ...    0.485469    0.251017     0.341907       0.003274   \n",
       "BsmtFullBath   ...    0.184738    0.186107     0.081265      -0.068393   \n",
       "BsmtHalfBath   ...   -0.021445    0.051549    -0.034917      -0.009675   \n",
       "FullBath       ...    0.408487    0.181266     0.260423      -0.118983   \n",
       "HalfBath       ...    0.178993    0.116701     0.182048      -0.081978   \n",
       "BedroomAbvGr   ...    0.073912    0.031644     0.086212       0.049940   \n",
       "KitchenAbvGr   ...   -0.057852   -0.087399    -0.068181       0.027639   \n",
       "TotRmsAbvGrd   ...    0.328687    0.156543     0.238156       0.015345   \n",
       "Fireplaces     ...    0.294767    0.227608     0.158621       0.000971   \n",
       "GarageYrBlt    ...    0.555836    0.222584     0.231639      -0.300751   \n",
       "GarageCars     ...    0.889700    0.240715     0.203544      -0.132846   \n",
       "GarageArea     ...    1.000000    0.238075     0.232559      -0.106417   \n",
       "WoodDeckSF     ...    0.238075    1.000000     0.038457      -0.119114   \n",
       "OpenPorchSF    ...    0.232559    0.038457     1.000000      -0.059672   \n",
       "EnclosedPorch  ...   -0.106417   -0.119114    -0.059672       1.000000   \n",
       "3SsnPorch      ...    0.029440   -0.003935    -0.009392      -0.032822   \n",
       "ScreenPorch    ...    0.062389   -0.052134     0.047777      -0.064377   \n",
       "PoolArea       ...    0.053049    0.094231     0.064212       0.092534   \n",
       "MiscVal        ...    0.008446    0.056883     0.077357       0.008654   \n",
       "MoSold         ...    0.040335    0.018120     0.034167      -0.020976   \n",
       "YrSold         ...   -0.013451   -0.000180    -0.037377      -0.001134   \n",
       "\n",
       "               3SsnPorch  ScreenPorch  PoolArea   MiscVal    MoSold    YrSold  \n",
       "MSSubClass     -0.037529    -0.049181 -0.003080 -0.028867 -0.001231 -0.015028  \n",
       "LotFrontage     0.028289     0.075858  0.174119  0.044272  0.011254 -0.007917  \n",
       "LotArea         0.015995     0.054375  0.093708  0.069029  0.004156 -0.024234  \n",
       "OverallQual     0.018715     0.042910  0.030740  0.005562  0.030405 -0.019614  \n",
       "OverallCond     0.043739     0.043713 -0.016876  0.033956 -0.006256  0.030102  \n",
       "YearBuilt       0.015958    -0.041046  0.002304 -0.010886  0.013938 -0.012344  \n",
       "YearRemodAdd    0.037433    -0.046878 -0.011407 -0.003124  0.017693  0.033203  \n",
       "MasVnrArea      0.013612     0.065209  0.004512  0.044811 -0.000117 -0.018510  \n",
       "BsmtFinSF1      0.050908     0.096823  0.084462  0.093295 -0.000942  0.022556  \n",
       "BsmtFinSF2     -0.023279     0.063302  0.044524 -0.005139 -0.009593  0.008883  \n",
       "BsmtUnfSF      -0.005810    -0.049158 -0.032273 -0.010492  0.022607 -0.038015  \n",
       "TotalBsmtSF     0.037892     0.075363  0.072216  0.084002  0.017888 -0.011184  \n",
       "1stFlrSF        0.044086     0.098381  0.121900  0.093062  0.040143 -0.013442  \n",
       "2ndFlrSF       -0.032458     0.011070  0.044503 -0.005299  0.014185 -0.019229  \n",
       "LowQualFinSF   -0.004545     0.006835  0.035177 -0.005973  0.011528 -0.002257  \n",
       "GrLivArea       0.006268     0.086284  0.135441  0.067118  0.044198 -0.026919  \n",
       "BsmtFullBath    0.027378     0.053119  0.043970 -0.004629 -0.003568  0.045255  \n",
       "BsmtHalfBath    0.026861     0.042069  0.066851  0.036902  0.023014 -0.020028  \n",
       "FullBath        0.015192    -0.015910  0.028091 -0.010024  0.046274 -0.004882  \n",
       "HalfBath       -0.023417     0.035622  0.001424  0.026553 -0.001136  0.001587  \n",
       "BedroomAbvGr   -0.048279     0.007254  0.036544  0.000245  0.055997 -0.020453  \n",
       "KitchenAbvGr   -0.021462    -0.056573 -0.013116  0.025078  0.035493  0.035173  \n",
       "TotRmsAbvGrd   -0.025764     0.032324  0.072061  0.060903  0.045137 -0.032354  \n",
       "Fireplaces      0.018852     0.169784  0.099123  0.008535  0.032352 -0.006752  \n",
       "GarageYrBlt     0.020699    -0.062320 -0.014467 -0.009203  0.024017 -0.004543  \n",
       "GarageCars      0.023383     0.043112  0.030424 -0.016934  0.050882 -0.022918  \n",
       "GarageArea      0.029440     0.062389  0.053049  0.008446  0.040335 -0.013451  \n",
       "WoodDeckSF     -0.003935    -0.052134  0.094231  0.056883  0.018120 -0.000180  \n",
       "OpenPorchSF    -0.009392     0.047777  0.064212  0.077357  0.034167 -0.037377  \n",
       "EnclosedPorch  -0.032822    -0.064377  0.092534  0.008654 -0.020976 -0.001134  \n",
       "3SsnPorch       1.000000    -0.029546 -0.006525 -0.000788  0.027391  0.022560  \n",
       "ScreenPorch    -0.029546     1.000000  0.026319  0.007067  0.028535 -0.006634  \n",
       "PoolArea       -0.006525     0.026319  1.000000  0.011921 -0.042230 -0.052816  \n",
       "MiscVal        -0.000788     0.007067  0.011921  1.000000  0.007443  0.008445  \n",
       "MoSold          0.027391     0.028535 -0.042230  0.007443  1.000000 -0.153895  \n",
       "YrSold          0.022560    -0.006634 -0.052816  0.008445 -0.153895  1.000000  \n",
       "\n",
       "[36 rows x 36 columns]"
      ]
     },
     "execution_count": 57,
     "metadata": {},
     "output_type": "execute_result"
    }
   ],
   "source": [
    "df.corr()"
   ]
  },
  {
   "cell_type": "code",
   "execution_count": 58,
   "metadata": {},
   "outputs": [],
   "source": [
    "df.drop(['PoolQC','MiscFeature','Fence','Alley'], axis=1,inplace=True)"
   ]
  },
  {
   "cell_type": "code",
   "execution_count": 89,
   "metadata": {},
   "outputs": [],
   "source": [
    "y_train=np.log1p(y_train)"
   ]
  },
  {
   "cell_type": "code",
   "execution_count": 90,
   "metadata": {},
   "outputs": [
    {
     "data": {
      "text/plain": [
       "<matplotlib.axes._subplots.AxesSubplot at 0x1a1a8f84e0>"
      ]
     },
     "execution_count": 90,
     "metadata": {},
     "output_type": "execute_result"
    },
    {
     "data": {
      "image/png": "[encoded data removed]",
      "text/plain": [
       "<Figure size 432x288 with 1 Axes>"
      ]
     },
     "metadata": {
      "needs_background": "light"
     },
     "output_type": "display_data"
    }
   ],
   "source": [
    "sns.distplot(y_train)"
   ]
  },
  {
   "cell_type": "code",
   "execution_count": null,
   "metadata": {},
   "outputs": [],
   "source": [
    "y_train=np.log1p(y_train)\n",
    "#y_test=np.log1p(y_test)"
   ]
  },
  {
   "cell_type": "code",
   "execution_count": 60,
   "metadata": {},
   "outputs": [],
   "source": [
    "#Ignore the skewness of columns MSSubClass,OverallQual as it categorical in nature"
   ]
  },
  {
   "cell_type": "code",
   "execution_count": 61,
   "metadata": {},
   "outputs": [],
   "source": [
    "df[\"MSSubClass\"] = df[\"MSSubClass\"].astype(object)\n",
    "df[\"OverallQual\"] = df[\"OverallQual\"].astype(object)\n",
    "df[\"OverallCond\"] = df[\"OverallCond\"].astype(object)"
   ]
  },
  {
   "cell_type": "code",
   "execution_count": null,
   "metadata": {},
   "outputs": [],
   "source": []
  },
  {
   "cell_type": "code",
   "execution_count": null,
   "metadata": {},
   "outputs": [],
   "source": []
  },
  {
   "cell_type": "code",
   "execution_count": 62,
   "metadata": {},
   "outputs": [
    {
     "name": "stdout",
     "output_type": "stream",
     "text": [
      "numeric_columns Index(['LotFrontage', 'LotArea', 'YearBuilt', 'YearRemodAdd', 'MasVnrArea',\n",
      "       'BsmtFinSF1', 'BsmtFinSF2', 'BsmtUnfSF', 'TotalBsmtSF', '1stFlrSF',\n",
      "       '2ndFlrSF', 'LowQualFinSF', 'GrLivArea', 'BsmtFullBath', 'BsmtHalfBath',\n",
      "       'FullBath', 'HalfBath', 'BedroomAbvGr', 'KitchenAbvGr', 'TotRmsAbvGrd',\n",
      "       'Fireplaces', 'GarageYrBlt', 'GarageCars', 'GarageArea', 'WoodDeckSF',\n",
      "       'OpenPorchSF', 'EnclosedPorch', '3SsnPorch', 'ScreenPorch', 'PoolArea',\n",
      "       'MiscVal', 'MoSold', 'YrSold'],\n",
      "      dtype='object')\n",
      "=====================\n",
      "Total number of numerical columns 33\n"
     ]
    }
   ],
   "source": [
    "# Function to identify numeric features\n",
    "def numeric_features(dataset):\n",
    "    numeric_col = dataset.select_dtypes(include=['number']).columns\n",
    "    return numeric_col\n",
    "\n",
    "numeric_columns = numeric_features(df)\n",
    "print(\"numeric_columns\", numeric_columns)\n",
    "print('=====================')\n",
    "print(\"Total number of numerical columns\", len(numeric_columns))"
   ]
  },
  {
   "cell_type": "code",
   "execution_count": 63,
   "metadata": {},
   "outputs": [
    {
     "name": "stdout",
     "output_type": "stream",
     "text": [
      "Categorical Features: Index(['MSSubClass', 'MSZoning', 'Street', 'LotShape', 'LandContour',\n",
      "       'Utilities', 'LotConfig', 'LandSlope', 'Neighborhood', 'Condition1',\n",
      "       'Condition2', 'BldgType', 'HouseStyle', 'OverallQual', 'OverallCond',\n",
      "       'RoofStyle', 'RoofMatl', 'Exterior1st', 'Exterior2nd', 'MasVnrType',\n",
      "       'ExterQual', 'ExterCond', 'Foundation', 'BsmtQual', 'BsmtCond',\n",
      "       'BsmtExposure', 'BsmtFinType1', 'BsmtFinType2', 'Heating', 'HeatingQC',\n",
      "       'CentralAir', 'Electrical', 'KitchenQual', 'Functional', 'FireplaceQu',\n",
      "       'GarageType', 'GarageFinish', 'GarageQual', 'GarageCond', 'PavedDrive',\n",
      "       'SaleType', 'SaleCondition'],\n",
      "      dtype='object')\n",
      "=====================\n",
      "Total numerical columns 42\n"
     ]
    }
   ],
   "source": [
    "# Function to identify categorical features\n",
    "def categorical_features(dataset):\n",
    "    categorical_col = dataset.select_dtypes(exclude=['number']).columns\n",
    "    return categorical_col\n",
    "\n",
    "categorical_columns = categorical_features(df)\n",
    "print(\"Categorical Features:\", categorical_columns)\n",
    "print('=====================')\n",
    "print(\"Total numerical columns\", len(categorical_columns))"
   ]
  },
  {
   "cell_type": "code",
   "execution_count": 64,
   "metadata": {},
   "outputs": [],
   "source": [
    "#filling numerical coulmns "
   ]
  },
  {
   "cell_type": "code",
   "execution_count": 65,
   "metadata": {},
   "outputs": [],
   "source": [
    "def fill_numerical_col(df,numeric_columns):\n",
    "    for col in numeric_columns:\n",
    "        df[col].fillna(df[col].mean(), inplace=True)"
   ]
  },
  {
   "cell_type": "code",
   "execution_count": 66,
   "metadata": {},
   "outputs": [],
   "source": [
    "fill_numerical_col(df, numeric_columns)"
   ]
  },
  {
   "cell_type": "code",
   "execution_count": null,
   "metadata": {},
   "outputs": [],
   "source": []
  },
  {
   "cell_type": "code",
   "execution_count": 67,
   "metadata": {},
   "outputs": [],
   "source": [
    "#Check the skewness of numerical columns"
   ]
  },
  {
   "cell_type": "code",
   "execution_count": 68,
   "metadata": {},
   "outputs": [],
   "source": [
    "def calculate_skew(df, numeric_columns):\n",
    "    skew_cols= []\n",
    "    for col in df.columns:\n",
    "        if col in numeric_columns:\n",
    "            if df[col].skew() > 1.0 or df[col].skew() < -1.0:\n",
    "                skew_cols.append(col)\n",
    "                print(\"Skewness of column\", col, df[col].skew())\n",
    "    print(\"=======================================================\")\n",
    "    print(\"Columns that are skewed are:\",skew_cols)"
   ]
  },
  {
   "cell_type": "code",
   "execution_count": 69,
   "metadata": {},
   "outputs": [
    {
     "name": "stdout",
     "output_type": "stream",
     "text": [
      "Skewness of column LotFrontage 1.6464199597415903\n",
      "Skewness of column LotArea 12.829024853018762\n",
      "Skewness of column MasVnrArea 2.6128922658215994\n",
      "Skewness of column BsmtFinSF1 1.4259663133939777\n",
      "Skewness of column BsmtFinSF2 4.148165577295465\n",
      "Skewness of column TotalBsmtSF 1.1630815127320877\n",
      "Skewness of column 1stFlrSF 1.4703601055379227\n",
      "Skewness of column LowQualFinSF 12.094977192517302\n",
      "Skewness of column GrLivArea 1.2700104075191514\n",
      "Skewness of column BsmtHalfBath 3.933364556433547\n",
      "Skewness of column KitchenAbvGr 4.304466641562935\n",
      "Skewness of column WoodDeckSF 1.8433802126628294\n",
      "Skewness of column OpenPorchSF 2.5364173160468444\n",
      "Skewness of column EnclosedPorch 4.005950070504265\n",
      "Skewness of column 3SsnPorch 11.381914394786643\n",
      "Skewness of column ScreenPorch 3.948723141292199\n",
      "Skewness of column PoolArea 16.9070172435751\n",
      "Skewness of column MiscVal 21.958480324447216\n",
      "=======================================================\n",
      "Columns that are skewed are: ['LotFrontage', 'LotArea', 'MasVnrArea', 'BsmtFinSF1', 'BsmtFinSF2', 'TotalBsmtSF', '1stFlrSF', 'LowQualFinSF', 'GrLivArea', 'BsmtHalfBath', 'KitchenAbvGr', 'WoodDeckSF', 'OpenPorchSF', 'EnclosedPorch', '3SsnPorch', 'ScreenPorch', 'PoolArea', 'MiscVal']\n"
     ]
    }
   ],
   "source": [
    "calculate_skew(df,numeric_columns)"
   ]
  },
  {
   "cell_type": "code",
   "execution_count": 70,
   "metadata": {},
   "outputs": [],
   "source": [
    "#ploting histogram of Numerical coulmns"
   ]
  },
  {
   "cell_type": "code",
   "execution_count": 189,
   "metadata": {},
   "outputs": [],
   "source": [
    "def plot_histogram(df,numeric_columns):\n",
    "    for col in numeric_columns:\n",
    "        print(col)\n",
    "        sns.distplot(df[col])\n",
    "        plt.show()"
   ]
  },
  {
   "cell_type": "code",
   "execution_count": null,
   "metadata": {},
   "outputs": [
    {
     "name": "stdout",
     "output_type": "stream",
     "text": [
      "LotFrontage\n"
     ]
    },
    {
     "data": {
      "image/png": "[encoded data removed]",
      "text/plain": [
       "<Figure size 432x288 with 1 Axes>"
      ]
     },
     "metadata": {
      "needs_background": "light"
     },
     "output_type": "display_data"
    },
    {
     "name": "stdout",
     "output_type": "stream",
     "text": [
      "LotArea\n"
     ]
    },
    {
     "data": {
      "image/png": "[encoded data removed]",
      "text/plain": [
       "<Figure size 432x288 with 1 Axes>"
      ]
     },
     "metadata": {
      "needs_background": "light"
     },
     "output_type": "display_data"
    },
    {
     "name": "stdout",
     "output_type": "stream",
     "text": [
      "YearBuilt\n"
     ]
    },
    {
     "data": {
      "image/png": "[encoded data removed]",
      "text/plain": [
       "<Figure size 432x288 with 1 Axes>"
      ]
     },
     "metadata": {
      "needs_background": "light"
     },
     "output_type": "display_data"
    },
    {
     "name": "stdout",
     "output_type": "stream",
     "text": [
      "YearRemodAdd\n"
     ]
    },
    {
     "data": {
      "image/png": "[encoded data removed]",
      "text/plain": [
       "<Figure size 432x288 with 1 Axes>"
      ]
     },
     "metadata": {
      "needs_background": "light"
     },
     "output_type": "display_data"
    },
    {
     "name": "stdout",
     "output_type": "stream",
     "text": [
      "MasVnrArea\n"
     ]
    },
    {
     "data": {
      "image/png": "[encoded data removed]",
      "text/plain": [
       "<Figure size 432x288 with 1 Axes>"
      ]
     },
     "metadata": {
      "needs_background": "light"
     },
     "output_type": "display_data"
    },
    {
     "name": "stdout",
     "output_type": "stream",
     "text": [
      "BsmtFinSF1\n"
     ]
    },
    {
     "data": {
      "image/png": "[encoded data removed]",
      "text/plain": [
       "<Figure size 432x288 with 1 Axes>"
      ]
     },
     "metadata": {
      "needs_background": "light"
     },
     "output_type": "display_data"
    },
    {
     "name": "stdout",
     "output_type": "stream",
     "text": [
      "BsmtFinSF2\n"
     ]
    },
    {
     "data": {
      "image/png": "[encoded data removed]",
      "text/plain": [
       "<Figure size 432x288 with 1 Axes>"
      ]
     },
     "metadata": {
      "needs_background": "light"
     },
     "output_type": "display_data"
    },
    {
     "name": "stdout",
     "output_type": "stream",
     "text": [
      "BsmtUnfSF\n"
     ]
    },
    {
     "data": {
      "image/png": "[encoded data removed]",
      "text/plain": [
       "<Figure size 432x288 with 1 Axes>"
      ]
     },
     "metadata": {
      "needs_background": "light"
     },
     "output_type": "display_data"
    },
    {
     "name": "stdout",
     "output_type": "stream",
     "text": [
      "TotalBsmtSF\n"
     ]
    },
    {
     "data": {
      "image/png": "[encoded data removed]",
      "text/plain": [
       "<Figure size 432x288 with 1 Axes>"
      ]
     },
     "metadata": {
      "needs_background": "light"
     },
     "output_type": "display_data"
    },
    {
     "name": "stdout",
     "output_type": "stream",
     "text": [
      "1stFlrSF\n"
     ]
    },
    {
     "data": {
      "image/png": "[encoded data removed]",
      "text/plain": [
       "<Figure size 432x288 with 1 Axes>"
      ]
     },
     "metadata": {
      "needs_background": "light"
     },
     "output_type": "display_data"
    },
    {
     "name": "stdout",
     "output_type": "stream",
     "text": [
      "2ndFlrSF\n"
     ]
    },
    {
     "data": {
      "image/png": "[encoded data removed]",
      "text/plain": [
       "<Figure size 432x288 with 1 Axes>"
      ]
     },
     "metadata": {
      "needs_background": "light"
     },
     "output_type": "display_data"
    },
    {
     "name": "stdout",
     "output_type": "stream",
     "text": [
      "LowQualFinSF\n"
     ]
    },
    {
     "data": {
      "image/png": "[encoded data removed]",
      "text/plain": [
       "<Figure size 432x288 with 1 Axes>"
      ]
     },
     "metadata": {
      "needs_background": "light"
     },
     "output_type": "display_data"
    },
    {
     "name": "stdout",
     "output_type": "stream",
     "text": [
      "GrLivArea\n"
     ]
    },
    {
     "data": {
      "image/png": "[encoded data removed]",
      "text/plain": [
       "<Figure size 432x288 with 1 Axes>"
      ]
     },
     "metadata": {
      "needs_background": "light"
     },
     "output_type": "display_data"
    },
    {
     "name": "stdout",
     "output_type": "stream",
     "text": [
      "BsmtFullBath\n"
     ]
    },
    {
     "data": {
      "image/png": "[encoded data removed]",
      "text/plain": [
       "<Figure size 432x288 with 1 Axes>"
      ]
     },
     "metadata": {
      "needs_background": "light"
     },
     "output_type": "display_data"
    },
    {
     "name": "stdout",
     "output_type": "stream",
     "text": [
      "BsmtHalfBath\n"
     ]
    },
    {
     "data": {
      "image/png": "[encoded data removed]",
      "text/plain": [
       "<Figure size 432x288 with 1 Axes>"
      ]
     },
     "metadata": {
      "needs_background": "light"
     },
     "output_type": "display_data"
    },
    {
     "name": "stdout",
     "output_type": "stream",
     "text": [
      "FullBath\n"
     ]
    },
    {
     "data": {
      "image/png": "[encoded data removed]",
      "text/plain": [
       "<Figure size 432x288 with 1 Axes>"
      ]
     },
     "metadata": {
      "needs_background": "light"
     },
     "output_type": "display_data"
    },
    {
     "name": "stdout",
     "output_type": "stream",
     "text": [
      "HalfBath\n"
     ]
    },
    {
     "data": {
      "image/png": "[encoded data removed]",
      "text/plain": [
       "<Figure size 432x288 with 1 Axes>"
      ]
     },
     "metadata": {
      "needs_background": "light"
     },
     "output_type": "display_data"
    },
    {
     "name": "stdout",
     "output_type": "stream",
     "text": [
      "BedroomAbvGr\n"
     ]
    },
    {
     "data": {
      "image/png": "[encoded data removed]",
      "text/plain": [
       "<Figure size 432x288 with 1 Axes>"
      ]
     },
     "metadata": {
      "needs_background": "light"
     },
     "output_type": "display_data"
    },
    {
     "name": "stdout",
     "output_type": "stream",
     "text": [
      "KitchenAbvGr\n"
     ]
    },
    {
     "data": {
      "image/png": "[encoded data removed]",
      "text/plain": [
       "<Figure size 432x288 with 1 Axes>"
      ]
     },
     "metadata": {
      "needs_background": "light"
     },
     "output_type": "display_data"
    },
    {
     "name": "stdout",
     "output_type": "stream",
     "text": [
      "TotRmsAbvGrd\n"
     ]
    },
    {
     "data": {
      "image/png": "[encoded data removed]",
      "text/plain": [
       "<Figure size 432x288 with 1 Axes>"
      ]
     },
     "metadata": {
      "needs_background": "light"
     },
     "output_type": "display_data"
    },
    {
     "name": "stdout",
     "output_type": "stream",
     "text": [
      "Fireplaces\n"
     ]
    },
    {
     "data": {
      "image/png": "[encoded data removed]",
      "text/plain": [
       "<Figure size 432x288 with 1 Axes>"
      ]
     },
     "metadata": {
      "needs_background": "light"
     },
     "output_type": "display_data"
    },
    {
     "name": "stdout",
     "output_type": "stream",
     "text": [
      "GarageYrBlt\n"
     ]
    },
    {
     "data": {
      "image/png": "[encoded data removed]",
      "text/plain": [
       "<Figure size 432x288 with 1 Axes>"
      ]
     },
     "metadata": {
      "needs_background": "light"
     },
     "output_type": "display_data"
    },
    {
     "name": "stdout",
     "output_type": "stream",
     "text": [
      "GarageCars\n"
     ]
    },
    {
     "data": {
      "image/png": "[encoded data removed]",
      "text/plain": [
       "<Figure size 432x288 with 1 Axes>"
      ]
     },
     "metadata": {
      "needs_background": "light"
     },
     "output_type": "display_data"
    },
    {
     "name": "stdout",
     "output_type": "stream",
     "text": [
      "GarageArea\n"
     ]
    }
   ],
   "source": [
    "plot_histogram(df,numeric_columns)"
   ]
  },
  {
   "cell_type": "code",
   "execution_count": 28,
   "metadata": {},
   "outputs": [],
   "source": [
    "#remove the skewness from the numerical columns"
   ]
  },
  {
   "cell_type": "code",
   "execution_count": 71,
   "metadata": {},
   "outputs": [],
   "source": [
    "def remove_skewness(df, numeric_columns):\n",
    "    for col in numeric_columns:\n",
    "        df[col] = np.log(df[col] + 1)\n",
    "        #df[col].describe()"
   ]
  },
  {
   "cell_type": "code",
   "execution_count": 72,
   "metadata": {},
   "outputs": [],
   "source": [
    "remove_skewness(df, numeric_columns)"
   ]
  },
  {
   "cell_type": "code",
   "execution_count": 73,
   "metadata": {},
   "outputs": [
    {
     "name": "stdout",
     "output_type": "stream",
     "text": [
      "Skewness of column LotFrontage -1.0199854601839196\n",
      "Skewness of column BsmtFinSF2 2.4597789857884544\n",
      "Skewness of column BsmtUnfSF -2.1603176057405995\n",
      "Skewness of column TotalBsmtSF -4.9842983247421175\n",
      "Skewness of column LowQualFinSF 8.56209088801536\n",
      "Skewness of column BsmtHalfBath 3.776186906805351\n",
      "Skewness of column KitchenAbvGr 3.5221608468499483\n",
      "Skewness of column GarageCars -1.276104321225927\n",
      "Skewness of column GarageArea -3.523447948128162\n",
      "Skewness of column EnclosedPorch 1.9620890015074595\n",
      "Skewness of column 3SsnPorch 8.829793819788062\n",
      "Skewness of column ScreenPorch 2.9474199516113737\n",
      "Skewness of column PoolArea 15.006047051771919\n",
      "Skewness of column MiscVal 5.216664735729965\n",
      "=======================================================\n",
      "Columns that are skewed are: ['LotFrontage', 'BsmtFinSF2', 'BsmtUnfSF', 'TotalBsmtSF', 'LowQualFinSF', 'BsmtHalfBath', 'KitchenAbvGr', 'GarageCars', 'GarageArea', 'EnclosedPorch', '3SsnPorch', 'ScreenPorch', 'PoolArea', 'MiscVal']\n"
     ]
    }
   ],
   "source": [
    "calculate_skew(df,numeric_columns)"
   ]
  },
  {
   "cell_type": "code",
   "execution_count": 74,
   "metadata": {},
   "outputs": [
    {
     "data": {
      "text/plain": [
       "count    2919.000000\n",
       "mean        4.205612\n",
       "std         0.321011\n",
       "min         3.091042\n",
       "25%         4.110874\n",
       "50%         4.252854\n",
       "75%         4.369448\n",
       "max         5.749393\n",
       "Name: LotFrontage, dtype: float64"
      ]
     },
     "execution_count": 74,
     "metadata": {},
     "output_type": "execute_result"
    }
   ],
   "source": [
    "df['LotFrontage'].describe()"
   ]
  },
  {
   "cell_type": "code",
   "execution_count": 75,
   "metadata": {},
   "outputs": [],
   "source": [
    "#Excellent way is normalize after log"
   ]
  },
  {
   "cell_type": "code",
   "execution_count": 76,
   "metadata": {},
   "outputs": [],
   "source": [
    "def normalize(column):\n",
    "    upper = column.max()\n",
    "    lower = column.min()\n",
    "    y = (column - lower)/(upper-lower)\n",
    "    return y\n",
    "\n",
    "def nomalize_data(df,numeric_columns):\n",
    "    for col in numeric_columns:\n",
    "        df[col] = normalize(df[col])\n",
    "        #df[col].describe()"
   ]
  },
  {
   "cell_type": "code",
   "execution_count": 77,
   "metadata": {},
   "outputs": [],
   "source": [
    "nomalize_data(df,numeric_columns)"
   ]
  },
  {
   "cell_type": "code",
   "execution_count": 78,
   "metadata": {},
   "outputs": [
    {
     "data": {
      "text/plain": [
       "count    2919.000000\n",
       "mean        0.419271\n",
       "std         0.120756\n",
       "min         0.000000\n",
       "25%         0.383633\n",
       "50%         0.437042\n",
       "75%         0.480902\n",
       "max         1.000000\n",
       "Name: LotFrontage, dtype: float64"
      ]
     },
     "execution_count": 78,
     "metadata": {},
     "output_type": "execute_result"
    }
   ],
   "source": [
    "df['LotFrontage'].describe()"
   ]
  },
  {
   "cell_type": "code",
   "execution_count": 79,
   "metadata": {},
   "outputs": [
    {
     "name": "stdout",
     "output_type": "stream",
     "text": [
      "Skewness of column LotFrontage -1.019985460183922\n",
      "Skewness of column BsmtFinSF2 2.4597789857884536\n",
      "Skewness of column BsmtUnfSF -2.1603176057406017\n",
      "Skewness of column TotalBsmtSF -4.984298324742114\n",
      "Skewness of column LowQualFinSF 8.562090888015359\n",
      "Skewness of column BsmtHalfBath 3.7761869068053517\n",
      "Skewness of column KitchenAbvGr 3.522160846849951\n",
      "Skewness of column GarageCars -1.2761043212259269\n",
      "Skewness of column GarageArea -3.523447948128163\n",
      "Skewness of column EnclosedPorch 1.962089001507458\n",
      "Skewness of column 3SsnPorch 8.829793819788058\n",
      "Skewness of column ScreenPorch 2.9474199516113737\n",
      "Skewness of column PoolArea 15.006047051771922\n",
      "Skewness of column MiscVal 5.216664735729962\n",
      "=======================================================\n",
      "Columns that are skewed are: ['LotFrontage', 'BsmtFinSF2', 'BsmtUnfSF', 'TotalBsmtSF', 'LowQualFinSF', 'BsmtHalfBath', 'KitchenAbvGr', 'GarageCars', 'GarageArea', 'EnclosedPorch', '3SsnPorch', 'ScreenPorch', 'PoolArea', 'MiscVal']\n"
     ]
    }
   ],
   "source": [
    "calculate_skew(df,numeric_columns)"
   ]
  },
  {
   "cell_type": "code",
   "execution_count": null,
   "metadata": {},
   "outputs": [],
   "source": []
  },
  {
   "cell_type": "code",
   "execution_count": 80,
   "metadata": {},
   "outputs": [],
   "source": [
    "#plt.figure(figsize=(30,30))\n",
    "#sns.heatmap(df.corr(), annot=True, fmt='.2f', cmap='magma')"
   ]
  },
  {
   "cell_type": "code",
   "execution_count": null,
   "metadata": {},
   "outputs": [],
   "source": []
  },
  {
   "cell_type": "code",
   "execution_count": null,
   "metadata": {},
   "outputs": [],
   "source": []
  },
  {
   "cell_type": "code",
   "execution_count": 81,
   "metadata": {},
   "outputs": [],
   "source": [
    "df = pd.get_dummies(data=df, drop_first=True)"
   ]
  },
  {
   "cell_type": "code",
   "execution_count": 82,
   "metadata": {},
   "outputs": [
    {
     "data": {
      "text/html": [
       "<div>\n",
       "<style scoped>\n",
       "    .dataframe tbody tr th:only-of-type {\n",
       "        vertical-align: middle;\n",
       "    }\n",
       "\n",
       "    .dataframe tbody tr th {\n",
       "        vertical-align: top;\n",
       "    }\n",
       "\n",
       "    .dataframe thead th {\n",
       "        text-align: right;\n",
       "    }\n",
       "</style>\n",
       "<table border=\"1\" class=\"dataframe\">\n",
       "  <thead>\n",
       "    <tr style=\"text-align: right;\">\n",
       "      <th></th>\n",
       "      <th>LotFrontage</th>\n",
       "      <th>LotArea</th>\n",
       "      <th>YearBuilt</th>\n",
       "      <th>YearRemodAdd</th>\n",
       "      <th>MasVnrArea</th>\n",
       "      <th>BsmtFinSF1</th>\n",
       "      <th>BsmtFinSF2</th>\n",
       "      <th>BsmtUnfSF</th>\n",
       "      <th>TotalBsmtSF</th>\n",
       "      <th>1stFlrSF</th>\n",
       "      <th>...</th>\n",
       "      <th>SaleType_ConLI</th>\n",
       "      <th>SaleType_ConLw</th>\n",
       "      <th>SaleType_New</th>\n",
       "      <th>SaleType_Oth</th>\n",
       "      <th>SaleType_WD</th>\n",
       "      <th>SaleCondition_AdjLand</th>\n",
       "      <th>SaleCondition_Alloca</th>\n",
       "      <th>SaleCondition_Family</th>\n",
       "      <th>SaleCondition_Normal</th>\n",
       "      <th>SaleCondition_Partial</th>\n",
       "    </tr>\n",
       "  </thead>\n",
       "  <tbody>\n",
       "    <tr>\n",
       "      <th>count</th>\n",
       "      <td>2919.000000</td>\n",
       "      <td>2919.000000</td>\n",
       "      <td>2919.000000</td>\n",
       "      <td>2919.000000</td>\n",
       "      <td>2919.000000</td>\n",
       "      <td>2919.000000</td>\n",
       "      <td>2919.000000</td>\n",
       "      <td>2919.000000</td>\n",
       "      <td>2919.000000</td>\n",
       "      <td>2919.000000</td>\n",
       "      <td>...</td>\n",
       "      <td>2919.000000</td>\n",
       "      <td>2919.000000</td>\n",
       "      <td>2919.000000</td>\n",
       "      <td>2919.000000</td>\n",
       "      <td>2919.000000</td>\n",
       "      <td>2919.000000</td>\n",
       "      <td>2919.000000</td>\n",
       "      <td>2919.000000</td>\n",
       "      <td>2919.000000</td>\n",
       "      <td>2919.000000</td>\n",
       "    </tr>\n",
       "    <tr>\n",
       "      <th>mean</th>\n",
       "      <td>0.419271</td>\n",
       "      <td>0.376622</td>\n",
       "      <td>0.725085</td>\n",
       "      <td>0.572945</td>\n",
       "      <td>0.286753</td>\n",
       "      <td>0.489325</td>\n",
       "      <td>0.093072</td>\n",
       "      <td>0.725494</td>\n",
       "      <td>0.772349</td>\n",
       "      <td>0.437186</td>\n",
       "      <td>...</td>\n",
       "      <td>0.003083</td>\n",
       "      <td>0.002741</td>\n",
       "      <td>0.081877</td>\n",
       "      <td>0.002398</td>\n",
       "      <td>0.865022</td>\n",
       "      <td>0.004111</td>\n",
       "      <td>0.008222</td>\n",
       "      <td>0.015759</td>\n",
       "      <td>0.822885</td>\n",
       "      <td>0.083933</td>\n",
       "    </tr>\n",
       "    <tr>\n",
       "      <th>std</th>\n",
       "      <td>0.120756</td>\n",
       "      <td>0.099808</td>\n",
       "      <td>0.217084</td>\n",
       "      <td>0.348313</td>\n",
       "      <td>0.355633</td>\n",
       "      <td>0.345084</td>\n",
       "      <td>0.256368</td>\n",
       "      <td>0.240633</td>\n",
       "      <td>0.134882</td>\n",
       "      <td>0.118530</td>\n",
       "      <td>...</td>\n",
       "      <td>0.055451</td>\n",
       "      <td>0.052289</td>\n",
       "      <td>0.274225</td>\n",
       "      <td>0.048920</td>\n",
       "      <td>0.341758</td>\n",
       "      <td>0.063996</td>\n",
       "      <td>0.090317</td>\n",
       "      <td>0.124562</td>\n",
       "      <td>0.381832</td>\n",
       "      <td>0.277335</td>\n",
       "    </tr>\n",
       "    <tr>\n",
       "      <th>min</th>\n",
       "      <td>0.000000</td>\n",
       "      <td>0.000000</td>\n",
       "      <td>0.000000</td>\n",
       "      <td>0.000000</td>\n",
       "      <td>0.000000</td>\n",
       "      <td>0.000000</td>\n",
       "      <td>0.000000</td>\n",
       "      <td>0.000000</td>\n",
       "      <td>0.000000</td>\n",
       "      <td>0.000000</td>\n",
       "      <td>...</td>\n",
       "      <td>0.000000</td>\n",
       "      <td>0.000000</td>\n",
       "      <td>0.000000</td>\n",
       "      <td>0.000000</td>\n",
       "      <td>0.000000</td>\n",
       "      <td>0.000000</td>\n",
       "      <td>0.000000</td>\n",
       "      <td>0.000000</td>\n",
       "      <td>0.000000</td>\n",
       "      <td>0.000000</td>\n",
       "    </tr>\n",
       "    <tr>\n",
       "      <th>25%</th>\n",
       "      <td>0.383633</td>\n",
       "      <td>0.342354</td>\n",
       "      <td>0.599135</td>\n",
       "      <td>0.252854</td>\n",
       "      <td>0.000000</td>\n",
       "      <td>0.000000</td>\n",
       "      <td>0.000000</td>\n",
       "      <td>0.695942</td>\n",
       "      <td>0.765910</td>\n",
       "      <td>0.353544</td>\n",
       "      <td>...</td>\n",
       "      <td>0.000000</td>\n",
       "      <td>0.000000</td>\n",
       "      <td>0.000000</td>\n",
       "      <td>0.000000</td>\n",
       "      <td>1.000000</td>\n",
       "      <td>0.000000</td>\n",
       "      <td>0.000000</td>\n",
       "      <td>0.000000</td>\n",
       "      <td>1.000000</td>\n",
       "      <td>0.000000</td>\n",
       "    </tr>\n",
       "    <tr>\n",
       "      <th>50%</th>\n",
       "      <td>0.437042</td>\n",
       "      <td>0.388225</td>\n",
       "      <td>0.738782</td>\n",
       "      <td>0.719728</td>\n",
       "      <td>0.000000</td>\n",
       "      <td>0.684550</td>\n",
       "      <td>0.000000</td>\n",
       "      <td>0.792673</td>\n",
       "      <td>0.791332</td>\n",
       "      <td>0.431053</td>\n",
       "      <td>...</td>\n",
       "      <td>0.000000</td>\n",
       "      <td>0.000000</td>\n",
       "      <td>0.000000</td>\n",
       "      <td>0.000000</td>\n",
       "      <td>1.000000</td>\n",
       "      <td>0.000000</td>\n",
       "      <td>0.000000</td>\n",
       "      <td>0.000000</td>\n",
       "      <td>1.000000</td>\n",
       "      <td>0.000000</td>\n",
       "    </tr>\n",
       "    <tr>\n",
       "      <th>75%</th>\n",
       "      <td>0.480902</td>\n",
       "      <td>0.427778</td>\n",
       "      <td>0.936906</td>\n",
       "      <td>0.901352</td>\n",
       "      <td>0.691602</td>\n",
       "      <td>0.763847</td>\n",
       "      <td>0.000000</td>\n",
       "      <td>0.862757</td>\n",
       "      <td>0.822729</td>\n",
       "      <td>0.522339</td>\n",
       "      <td>...</td>\n",
       "      <td>0.000000</td>\n",
       "      <td>0.000000</td>\n",
       "      <td>0.000000</td>\n",
       "      <td>0.000000</td>\n",
       "      <td>1.000000</td>\n",
       "      <td>0.000000</td>\n",
       "      <td>0.000000</td>\n",
       "      <td>0.000000</td>\n",
       "      <td>1.000000</td>\n",
       "      <td>0.000000</td>\n",
       "    </tr>\n",
       "    <tr>\n",
       "      <th>max</th>\n",
       "      <td>1.000000</td>\n",
       "      <td>1.000000</td>\n",
       "      <td>1.000000</td>\n",
       "      <td>1.000000</td>\n",
       "      <td>1.000000</td>\n",
       "      <td>1.000000</td>\n",
       "      <td>1.000000</td>\n",
       "      <td>1.000000</td>\n",
       "      <td>1.000000</td>\n",
       "      <td>1.000000</td>\n",
       "      <td>...</td>\n",
       "      <td>1.000000</td>\n",
       "      <td>1.000000</td>\n",
       "      <td>1.000000</td>\n",
       "      <td>1.000000</td>\n",
       "      <td>1.000000</td>\n",
       "      <td>1.000000</td>\n",
       "      <td>1.000000</td>\n",
       "      <td>1.000000</td>\n",
       "      <td>1.000000</td>\n",
       "      <td>1.000000</td>\n",
       "    </tr>\n",
       "  </tbody>\n",
       "</table>\n",
       "<p>8 rows × 265 columns</p>\n",
       "</div>"
      ],
      "text/plain": [
       "       LotFrontage      LotArea    YearBuilt  YearRemodAdd   MasVnrArea  \\\n",
       "count  2919.000000  2919.000000  2919.000000   2919.000000  2919.000000   \n",
       "mean      0.419271     0.376622     0.725085      0.572945     0.286753   \n",
       "std       0.120756     0.099808     0.217084      0.348313     0.355633   \n",
       "min       0.000000     0.000000     0.000000      0.000000     0.000000   \n",
       "25%       0.383633     0.342354     0.599135      0.252854     0.000000   \n",
       "50%       0.437042     0.388225     0.738782      0.719728     0.000000   \n",
       "75%       0.480902     0.427778     0.936906      0.901352     0.691602   \n",
       "max       1.000000     1.000000     1.000000      1.000000     1.000000   \n",
       "\n",
       "        BsmtFinSF1   BsmtFinSF2    BsmtUnfSF  TotalBsmtSF     1stFlrSF  ...  \\\n",
       "count  2919.000000  2919.000000  2919.000000  2919.000000  2919.000000  ...   \n",
       "mean      0.489325     0.093072     0.725494     0.772349     0.437186  ...   \n",
       "std       0.345084     0.256368     0.240633     0.134882     0.118530  ...   \n",
       "min       0.000000     0.000000     0.000000     0.000000     0.000000  ...   \n",
       "25%       0.000000     0.000000     0.695942     0.765910     0.353544  ...   \n",
       "50%       0.684550     0.000000     0.792673     0.791332     0.431053  ...   \n",
       "75%       0.763847     0.000000     0.862757     0.822729     0.522339  ...   \n",
       "max       1.000000     1.000000     1.000000     1.000000     1.000000  ...   \n",
       "\n",
       "       SaleType_ConLI  SaleType_ConLw  SaleType_New  SaleType_Oth  \\\n",
       "count     2919.000000     2919.000000   2919.000000   2919.000000   \n",
       "mean         0.003083        0.002741      0.081877      0.002398   \n",
       "std          0.055451        0.052289      0.274225      0.048920   \n",
       "min          0.000000        0.000000      0.000000      0.000000   \n",
       "25%          0.000000        0.000000      0.000000      0.000000   \n",
       "50%          0.000000        0.000000      0.000000      0.000000   \n",
       "75%          0.000000        0.000000      0.000000      0.000000   \n",
       "max          1.000000        1.000000      1.000000      1.000000   \n",
       "\n",
       "       SaleType_WD  SaleCondition_AdjLand  SaleCondition_Alloca  \\\n",
       "count  2919.000000            2919.000000           2919.000000   \n",
       "mean      0.865022               0.004111              0.008222   \n",
       "std       0.341758               0.063996              0.090317   \n",
       "min       0.000000               0.000000              0.000000   \n",
       "25%       1.000000               0.000000              0.000000   \n",
       "50%       1.000000               0.000000              0.000000   \n",
       "75%       1.000000               0.000000              0.000000   \n",
       "max       1.000000               1.000000              1.000000   \n",
       "\n",
       "       SaleCondition_Family  SaleCondition_Normal  SaleCondition_Partial  \n",
       "count           2919.000000           2919.000000            2919.000000  \n",
       "mean               0.015759              0.822885               0.083933  \n",
       "std                0.124562              0.381832               0.277335  \n",
       "min                0.000000              0.000000               0.000000  \n",
       "25%                0.000000              1.000000               0.000000  \n",
       "50%                0.000000              1.000000               0.000000  \n",
       "75%                0.000000              1.000000               0.000000  \n",
       "max                1.000000              1.000000               1.000000  \n",
       "\n",
       "[8 rows x 265 columns]"
      ]
     },
     "execution_count": 82,
     "metadata": {},
     "output_type": "execute_result"
    }
   ],
   "source": [
    "df.describe()"
   ]
  },
  {
   "cell_type": "code",
   "execution_count": 43,
   "metadata": {},
   "outputs": [],
   "source": [
    "# X_train = df.iloc[0:1460, :-1]\n",
    "# X_test = df.iloc[1460:, :-1]\n",
    "# y_train=df.iloc[0:1460, -1]\n",
    "# y_test=df.iloc[1460:, -1]"
   ]
  },
  {
   "cell_type": "code",
   "execution_count": 92,
   "metadata": {},
   "outputs": [],
   "source": [
    "y_test=df.iloc[1460:, -1]\n",
    "y_test=np.log1p(y_test)"
   ]
  },
  {
   "cell_type": "code",
   "execution_count": 83,
   "metadata": {},
   "outputs": [],
   "source": [
    "X_train = df.iloc[0:1460, :]\n",
    "X_test = df.iloc[1460:, :]"
   ]
  },
  {
   "cell_type": "code",
   "execution_count": 93,
   "metadata": {},
   "outputs": [
    {
     "name": "stdout",
     "output_type": "stream",
     "text": [
      "[11.6907959  11.94400024 12.15541077 ... 12.07073975 11.69598389\n",
      " 12.2702179 ]\n"
     ]
    }
   ],
   "source": [
    "from sklearn.linear_model import LinearRegression \n",
    "linreg= LinearRegression()\n",
    "#y_train=y_train.apply(np.log)\n",
    "linreg.fit(X_train, y_train)\n",
    "y_pred = linreg.predict(X_test)\n",
    "print (y_pred)"
   ]
  },
  {
   "cell_type": "code",
   "execution_count": 94,
   "metadata": {},
   "outputs": [
    {
     "name": "stdout",
     "output_type": "stream",
     "text": [
      "mean absolute error 784314583.7291759\n",
      "root mean square error 9799754983.597502\n",
      "rsquared -2.647120174853933e+21\n"
     ]
    }
   ],
   "source": [
    "# import packages\n",
    "from sklearn.metrics import mean_absolute_error\n",
    "from sklearn.metrics import mean_squared_error\n",
    "from sklearn.metrics import r2_score\n",
    "\n",
    "# MAE calculation\n",
    "mae = mean_absolute_error(y_test, y_pred)\n",
    "print (\"mean absolute error\", mae)\n",
    "\n",
    "\n",
    "rmse = np.sqrt(mean_squared_error(y_test,y_pred))\n",
    "print (\"root mean square error\", rmse)\n",
    "\n",
    "# R-squared calculation\n",
    "rsquared = r2_score(y_test,y_pred)\n",
    "print ('rsquared',rsquared)\n"
   ]
  },
  {
   "cell_type": "code",
   "execution_count": 95,
   "metadata": {},
   "outputs": [
    {
     "name": "stdout",
     "output_type": "stream",
     "text": [
      "                            OLS Regression Results                            \n",
      "==============================================================================\n",
      "Dep. Variable:              SalePrice   R-squared:                       0.947\n",
      "Model:                            OLS   Adj. R-squared:                  0.936\n",
      "Method:                 Least Squares   F-statistic:                     82.18\n",
      "Date:                Wed, 12 Feb 2020   Prob (F-statistic):               0.00\n",
      "Time:                        06:36:58   Log-Likelihood:                 1414.4\n",
      "No. Observations:                1460   AIC:                            -2305.\n",
      "Df Residuals:                    1198   BIC:                            -919.8\n",
      "Df Model:                         261                                         \n",
      "Covariance Type:            nonrobust                                         \n",
      "=========================================================================================\n",
      "                            coef    std err          t      P>|t|      [0.025      0.975]\n",
      "-----------------------------------------------------------------------------------------\n",
      "LotFrontage               0.0386      0.043      0.906      0.365      -0.045       0.122\n",
      "LotArea                   0.4535      0.065      6.976      0.000       0.326       0.581\n",
      "YearBuilt                 0.2538      0.053      4.824      0.000       0.151       0.357\n",
      "YearRemodAdd              0.0450      0.015      2.962      0.003       0.015       0.075\n",
      "MasVnrArea                0.0181      0.039      0.458      0.647      -0.059       0.095\n",
      "BsmtFinSF1                0.1164      0.045      2.604      0.009       0.029       0.204\n",
      "BsmtFinSF2               -0.1169      0.080     -1.455      0.146      -0.275       0.041\n",
      "BsmtUnfSF                -0.0290      0.022     -1.335      0.182      -0.072       0.014\n",
      "TotalBsmtSF               0.3829      0.109      3.510      0.000       0.169       0.597\n",
      "1stFlrSF                  0.0202      0.122      0.165      0.869      -0.220       0.260\n",
      "2ndFlrSF                 -0.0208      0.045     -0.462      0.644      -0.109       0.068\n",
      "LowQualFinSF             -0.0740      0.043     -1.739      0.082      -0.158       0.010\n",
      "GrLivArea                 1.2817      0.153      8.385      0.000       0.982       1.582\n",
      "BsmtFullBath              0.0507      0.018      2.828      0.005       0.016       0.086\n",
      "BsmtHalfBath              0.0189      0.022      0.862      0.389      -0.024       0.062\n",
      "FullBath                  0.0974      0.040      2.410      0.016       0.018       0.177\n",
      "HalfBath                  0.0331      0.016      2.116      0.035       0.002       0.064\n",
      "BedroomAbvGr             -0.0048      0.049     -0.099      0.922      -0.100       0.091\n",
      "KitchenAbvGr             -0.1905      0.094     -2.018      0.044      -0.376      -0.005\n",
      "TotRmsAbvGrd             -0.0193      0.054     -0.360      0.719      -0.124       0.086\n",
      "Fireplaces                0.0537      0.035      1.518      0.129      -0.016       0.123\n",
      "GarageYrBlt              -0.0163      0.083     -0.196      0.844      -0.179       0.146\n",
      "GarageCars                0.1506      0.049      3.051      0.002       0.054       0.247\n",
      "GarageArea                0.0931      0.093      1.004      0.316      -0.089       0.275\n",
      "WoodDeckSF                0.0245      0.009      2.588      0.010       0.006       0.043\n",
      "OpenPorchSF               0.0136      0.011      1.202      0.229      -0.009       0.036\n",
      "EnclosedPorch             0.0262      0.014      1.841      0.066      -0.002       0.054\n",
      "3SsnPorch                 0.0203      0.028      0.716      0.474      -0.035       0.076\n",
      "ScreenPorch               0.0559      0.014      4.027      0.000       0.029       0.083\n",
      "PoolArea                  0.1899      0.052      3.682      0.000       0.089       0.291\n",
      "MiscVal                  -0.0117      0.024     -0.481      0.631      -0.060       0.036\n",
      "MoSold                   -0.0067      0.013     -0.512      0.609      -0.032       0.019\n",
      "YrSold                   -0.0099      0.009     -1.068      0.286      -0.028       0.008\n",
      "MSSubClass_30            -0.0350      0.022     -1.606      0.109      -0.078       0.008\n",
      "MSSubClass_40            -0.0575      0.070     -0.826      0.409      -0.194       0.079\n",
      "MSSubClass_45            -0.1941      0.114     -1.697      0.090      -0.418       0.030\n",
      "MSSubClass_50            -0.0394      0.040     -0.994      0.321      -0.117       0.038\n",
      "MSSubClass_60            -0.0346      0.035     -1.000      0.317      -0.103       0.033\n",
      "MSSubClass_70             0.0028      0.038      0.075      0.940      -0.071       0.077\n",
      "MSSubClass_75            -0.0973      0.070     -1.390      0.165      -0.235       0.040\n",
      "MSSubClass_80            -0.0245      0.057     -0.427      0.669      -0.137       0.088\n",
      "MSSubClass_85            -0.0176      0.049     -0.363      0.717      -0.113       0.078\n",
      "MSSubClass_90            -0.0185      0.017     -1.105      0.269      -0.051       0.014\n",
      "MSSubClass_120           -0.0023      0.067     -0.035      0.972      -0.133       0.129\n",
      "MSSubClass_150        -1.669e-13   6.75e-15    -24.721      0.000    -1.8e-13   -1.54e-13\n",
      "MSSubClass_160           -0.0665      0.080     -0.832      0.405      -0.223       0.090\n",
      "MSSubClass_180            0.0357      0.090      0.395      0.693      -0.142       0.213\n",
      "MSSubClass_190           -0.0231      0.126     -0.183      0.855      -0.271       0.225\n",
      "MSZoning_FV               0.5065      0.056      9.117      0.000       0.397       0.615\n",
      "MSZoning_RH               0.4613      0.056      8.304      0.000       0.352       0.570\n",
      "MSZoning_RL               0.4529      0.048      9.489      0.000       0.359       0.547\n",
      "MSZoning_RM               0.4154      0.045      9.311      0.000       0.328       0.503\n",
      "Street_Pave               0.0587      0.057      1.031      0.303      -0.053       0.171\n",
      "LotShape_IR2              0.0167      0.019      0.876      0.381      -0.021       0.054\n",
      "LotShape_IR3              0.0487      0.039      1.246      0.213      -0.028       0.125\n",
      "LotShape_Reg              0.0121      0.007      1.664      0.096      -0.002       0.026\n",
      "LandContour_HLS           0.0248      0.023      1.059      0.290      -0.021       0.071\n",
      "LandContour_Low           0.0051      0.029      0.172      0.863      -0.053       0.063\n",
      "LandContour_Lvl           0.0247      0.017      1.463      0.144      -0.008       0.058\n",
      "Utilities_NoSeWa         -0.2300      0.128     -1.794      0.073      -0.481       0.021\n",
      "LotConfig_CulDSac         0.0224      0.015      1.497      0.135      -0.007       0.052\n",
      "LotConfig_FR2            -0.0467      0.018     -2.575      0.010      -0.082      -0.011\n",
      "LotConfig_FR3            -0.0997      0.057     -1.757      0.079      -0.211       0.012\n",
      "LotConfig_Inside         -0.0171      0.008     -2.107      0.035      -0.033      -0.001\n",
      "LandSlope_Mod             0.0258      0.018      1.418      0.156      -0.010       0.061\n",
      "LandSlope_Sev            -0.1046      0.044     -2.393      0.017      -0.190      -0.019\n",
      "Neighborhood_Blueste      0.0387      0.090      0.431      0.667      -0.138       0.215\n",
      "Neighborhood_BrDale       0.0136      0.055      0.247      0.805      -0.094       0.121\n",
      "Neighborhood_BrkSide     -0.0014      0.045     -0.031      0.975      -0.089       0.086\n",
      "Neighborhood_ClearCr     -0.0064      0.044     -0.144      0.885      -0.093       0.080\n",
      "Neighborhood_CollgCr     -0.0404      0.035     -1.146      0.252      -0.109       0.029\n",
      "Neighborhood_Crawfor      0.0666      0.041      1.623      0.105      -0.014       0.147\n",
      "Neighborhood_Edwards     -0.1170      0.038     -3.041      0.002      -0.192      -0.042\n",
      "Neighborhood_Gilbert     -0.0478      0.037     -1.288      0.198      -0.121       0.025\n",
      "Neighborhood_IDOTRR      -0.0597      0.051     -1.177      0.239      -0.159       0.040\n",
      "Neighborhood_MeadowV     -0.1233      0.056     -2.182      0.029      -0.234      -0.012\n",
      "Neighborhood_Mitchel     -0.0876      0.039     -2.223      0.026      -0.165      -0.010\n",
      "Neighborhood_NAmes       -0.0701      0.038     -1.868      0.062      -0.144       0.004\n",
      "Neighborhood_NPkVill     -0.0074      0.064     -0.115      0.909      -0.133       0.118\n",
      "Neighborhood_NWAmes      -0.0837      0.039     -2.163      0.031      -0.160      -0.008\n",
      "Neighborhood_NoRidge      0.0518      0.040      1.293      0.196      -0.027       0.130\n",
      "Neighborhood_NridgHt      0.0412      0.036      1.139      0.255      -0.030       0.112\n",
      "Neighborhood_OldTown     -0.0671      0.045     -1.487      0.137      -0.156       0.021\n",
      "Neighborhood_SWISU       -0.0226      0.045     -0.498      0.619      -0.112       0.067\n",
      "Neighborhood_Sawyer      -0.0594      0.039     -1.537      0.125      -0.135       0.016\n",
      "Neighborhood_SawyerW     -0.0362      0.038     -0.965      0.335      -0.110       0.037\n",
      "Neighborhood_Somerst     -0.0067      0.043     -0.159      0.874      -0.090       0.077\n",
      "Neighborhood_StoneBr      0.0942      0.039      2.385      0.017       0.017       0.172\n",
      "Neighborhood_Timber      -0.0297      0.039     -0.756      0.450      -0.107       0.047\n",
      "Neighborhood_Veenker     -0.0112      0.049     -0.226      0.821      -0.108       0.086\n",
      "Condition1_Feedr          0.0422      0.023      1.858      0.063      -0.002       0.087\n",
      "Condition1_Norm           0.0916      0.019      4.859      0.000       0.055       0.129\n",
      "Condition1_PosA           0.0582      0.045      1.300      0.194      -0.030       0.146\n",
      "Condition1_PosN           0.1016      0.034      3.024      0.003       0.036       0.167\n",
      "Condition1_RRAe          -0.0446      0.041     -1.084      0.278      -0.125       0.036\n",
      "Condition1_RRAn           0.0446      0.031      1.448      0.148      -0.016       0.105\n",
      "Condition1_RRNe           0.0218      0.079      0.277      0.782      -0.132       0.176\n",
      "Condition1_RRNn           0.0896      0.058      1.546      0.122      -0.024       0.203\n",
      "Condition2_Feedr          0.1739      0.121      1.433      0.152      -0.064       0.412\n",
      "Condition2_Norm           0.1551      0.110      1.409      0.159      -0.061       0.371\n",
      "Condition2_PosA           0.3261      0.179      1.823      0.069      -0.025       0.677\n",
      "Condition2_PosN          -0.5184      0.139     -3.720      0.000      -0.792      -0.245\n",
      "Condition2_RRAe          -0.3076      0.223     -1.382      0.167      -0.744       0.129\n",
      "Condition2_RRAn           0.0664      0.156      0.426      0.670      -0.239       0.372\n",
      "Condition2_RRNn           0.2275      0.138      1.644      0.100      -0.044       0.499\n",
      "BldgType_2fmCon          -0.0201      0.124     -0.162      0.871      -0.264       0.223\n",
      "BldgType_Duplex          -0.0185      0.017     -1.105      0.269      -0.051       0.014\n",
      "BldgType_Twnhs           -0.0191      0.071     -0.270      0.787      -0.158       0.120\n",
      "BldgType_TwnhsE          -0.0095      0.067     -0.142      0.887      -0.142       0.123\n",
      "HouseStyle_1.5Unf         0.1959      0.115      1.701      0.089      -0.030       0.422\n",
      "HouseStyle_1Story        -0.0305      0.046     -0.667      0.505      -0.120       0.059\n",
      "HouseStyle_2.5Fin         0.0303      0.077      0.394      0.694      -0.121       0.181\n",
      "HouseStyle_2.5Unf         0.0685      0.074      0.923      0.356      -0.077       0.214\n",
      "HouseStyle_2Story        -0.0339      0.037     -0.912      0.362      -0.107       0.039\n",
      "HouseStyle_SFoyer        -0.0104      0.058     -0.177      0.859      -0.125       0.104\n",
      "HouseStyle_SLvl          -0.0239      0.064     -0.373      0.709      -0.149       0.102\n",
      "OverallQual_2             0.2216      0.142      1.558      0.120      -0.057       0.501\n",
      "OverallQual_3             0.2012      0.131      1.537      0.125      -0.056       0.458\n",
      "OverallQual_4             0.2283      0.130      1.757      0.079      -0.027       0.483\n",
      "OverallQual_5             0.2537      0.131      1.942      0.052      -0.003       0.510\n",
      "OverallQual_6             0.2743      0.131      2.092      0.037       0.017       0.532\n",
      "OverallQual_7             0.3113      0.131      2.372      0.018       0.054       0.569\n",
      "OverallQual_8             0.3740      0.132      2.836      0.005       0.115       0.633\n",
      "OverallQual_9             0.4509      0.134      3.360      0.001       0.188       0.714\n",
      "OverallQual_10            0.4990      0.138      3.619      0.000       0.228       0.770\n",
      "OverallCond_2             7.9386      0.319     24.888      0.000       7.313       8.564\n",
      "OverallCond_3             7.7840      0.305     25.501      0.000       7.185       8.383\n",
      "OverallCond_4             7.8521      0.307     25.595      0.000       7.250       8.454\n",
      "OverallCond_5             7.9007      0.306     25.797      0.000       7.300       8.502\n",
      "OverallCond_6             7.9410      0.306     25.960      0.000       7.341       8.541\n",
      "OverallCond_7             7.9785      0.306     26.076      0.000       7.378       8.579\n",
      "OverallCond_8             8.0033      0.306     26.175      0.000       7.403       8.603\n",
      "OverallCond_9             8.0422      0.304     26.437      0.000       7.445       8.639\n",
      "RoofStyle_Gable           0.0120      0.082      0.145      0.885      -0.150       0.174\n",
      "RoofStyle_Gambrel        -0.0199      0.090     -0.221      0.825      -0.197       0.157\n",
      "RoofStyle_Hip             0.0132      0.083      0.160      0.873      -0.149       0.175\n",
      "RoofStyle_Mansard         0.0590      0.096      0.613      0.540      -0.130       0.248\n",
      "RoofStyle_Shed            0.3607      0.167      2.157      0.031       0.033       0.689\n",
      "RoofMatl_CompShg          1.7290      0.131     13.162      0.000       1.471       1.987\n",
      "RoofMatl_Membran          2.0107      0.199     10.102      0.000       1.620       2.401\n",
      "RoofMatl_Metal            1.8822      0.196      9.586      0.000       1.497       2.267\n",
      "RoofMatl_Roll             1.7132      0.174      9.857      0.000       1.372       2.054\n",
      "RoofMatl_Tar&Grv          1.7154      0.155     11.056      0.000       1.411       2.020\n",
      "RoofMatl_WdShake          1.6897      0.148     11.414      0.000       1.399       1.980\n",
      "RoofMatl_WdShngl          1.8347      0.139     13.238      0.000       1.563       2.107\n",
      "Exterior1st_AsphShn      -0.0028      0.149     -0.019      0.985      -0.295       0.289\n",
      "Exterior1st_BrkComm      -0.2308      0.130     -1.771      0.077      -0.486       0.025\n",
      "Exterior1st_BrkFace       0.0824      0.059      1.395      0.163      -0.033       0.198\n",
      "Exterior1st_CBlock       -0.0762      0.063     -1.214      0.225      -0.199       0.047\n",
      "Exterior1st_CemntBd      -0.0203      0.088     -0.231      0.817      -0.193       0.152\n",
      "Exterior1st_HdBoard      -0.0151      0.060     -0.251      0.802      -0.133       0.103\n",
      "Exterior1st_ImStucc      -0.0693      0.126     -0.551      0.581      -0.316       0.177\n",
      "Exterior1st_MetalSd       0.0309      0.068      0.455      0.649      -0.102       0.164\n",
      "Exterior1st_Plywood      -0.0088      0.059     -0.150      0.881      -0.124       0.107\n",
      "Exterior1st_Stone        -0.0089      0.110     -0.081      0.936      -0.224       0.206\n",
      "Exterior1st_Stucco        0.0237      0.067      0.355      0.723      -0.107       0.155\n",
      "Exterior1st_VinylSd      -0.0054      0.062     -0.087      0.931      -0.127       0.116\n",
      "Exterior1st_Wd Sdng      -0.0379      0.058     -0.658      0.510      -0.151       0.075\n",
      "Exterior1st_WdShing       0.0053      0.062      0.085      0.932      -0.116       0.127\n",
      "Exterior2nd_AsphShn       0.0283      0.101      0.279      0.780      -0.170       0.227\n",
      "Exterior2nd_Brk Cmn       0.1048      0.094      1.113      0.266      -0.080       0.290\n",
      "Exterior2nd_BrkFace      -0.0032      0.061     -0.053      0.958      -0.122       0.116\n",
      "Exterior2nd_CBlock       -0.0762      0.063     -1.214      0.225      -0.199       0.047\n",
      "Exterior2nd_CmentBd       0.0620      0.086      0.725      0.469      -0.106       0.230\n",
      "Exterior2nd_HdBoard       0.0300      0.057      0.523      0.601      -0.083       0.143\n",
      "Exterior2nd_ImStucc       0.0576      0.065      0.882      0.378      -0.071       0.186\n",
      "Exterior2nd_MetalSd       0.0086      0.066      0.131      0.896      -0.121       0.138\n",
      "Exterior2nd_Other        -0.0638      0.123     -0.520      0.603      -0.304       0.177\n",
      "Exterior2nd_Plywood       0.0240      0.056      0.430      0.667      -0.085       0.133\n",
      "Exterior2nd_Stone        -0.0012      0.079     -0.015      0.988      -0.156       0.153\n",
      "Exterior2nd_Stucco        0.0271      0.063      0.429      0.668      -0.097       0.151\n",
      "Exterior2nd_VinylSd       0.0385      0.060      0.646      0.519      -0.079       0.156\n",
      "Exterior2nd_Wd Sdng       0.0540      0.055      0.974      0.330      -0.055       0.163\n",
      "Exterior2nd_Wd Shng       0.0187      0.058      0.324      0.746      -0.095       0.132\n",
      "MasVnrType_BrkFace        0.0453      0.025      1.838      0.066      -0.003       0.094\n",
      "MasVnrType_None           0.0486      0.036      1.359      0.175      -0.022       0.119\n",
      "MasVnrType_Stone          0.0598      0.026      2.269      0.023       0.008       0.111\n",
      "ExterQual_Fa              0.0516      0.056      0.921      0.357      -0.058       0.162\n",
      "ExterQual_Gd             -0.0034      0.023     -0.147      0.883      -0.049       0.043\n",
      "ExterQual_TA             -0.0049      0.025     -0.193      0.847      -0.055       0.045\n",
      "ExterCond_Fa             -0.1131      0.085     -1.336      0.182      -0.279       0.053\n",
      "ExterCond_Gd             -0.0864      0.081     -1.068      0.286      -0.245       0.072\n",
      "ExterCond_Po             -0.2974      0.165     -1.798      0.072      -0.622       0.027\n",
      "ExterCond_TA             -0.0746      0.081     -0.921      0.357      -0.234       0.084\n",
      "Foundation_CBlock         0.0193      0.015      1.320      0.187      -0.009       0.048\n",
      "Foundation_PConc          0.0335      0.016      2.140      0.033       0.003       0.064\n",
      "Foundation_Slab           0.0439      0.045      0.976      0.329      -0.044       0.132\n",
      "Foundation_Stone          0.1203      0.050      2.405      0.016       0.022       0.218\n",
      "Foundation_Wood          -0.1180      0.066     -1.781      0.075      -0.248       0.012\n",
      "BsmtQual_Fa              -0.0176      0.029     -0.612      0.541      -0.074       0.039\n",
      "BsmtQual_Gd              -0.0375      0.015     -2.464      0.014      -0.067      -0.008\n",
      "BsmtQual_TA              -0.0389      0.019     -2.090      0.037      -0.075      -0.002\n",
      "BsmtCond_Gd               0.0161      0.024      0.675      0.500      -0.031       0.063\n",
      "BsmtCond_Po               7.9359      0.306     25.971      0.000       7.336       8.535\n",
      "BsmtCond_TA               0.0270      0.019      1.397      0.163      -0.011       0.065\n",
      "BsmtExposure_Gd           0.0401      0.014      2.958      0.003       0.014       0.067\n",
      "BsmtExposure_Mn          -0.0008      0.014     -0.060      0.952      -0.028       0.026\n",
      "BsmtExposure_No          -0.0112      0.010     -1.115      0.265      -0.031       0.008\n",
      "BsmtFinType1_BLQ         -0.0083      0.013     -0.665      0.506      -0.033       0.016\n",
      "BsmtFinType1_GLQ          0.0072      0.011      0.635      0.525      -0.015       0.029\n",
      "BsmtFinType1_LwQ         -0.0337      0.017     -1.987      0.047      -0.067      -0.000\n",
      "BsmtFinType1_Rec         -0.0163      0.013     -1.212      0.226      -0.043       0.010\n",
      "BsmtFinType1_Unf          0.0315      0.031      1.008      0.314      -0.030       0.093\n",
      "BsmtFinType2_BLQ         -0.1106      0.032     -3.472      0.001      -0.173      -0.048\n",
      "BsmtFinType2_GLQ         -0.0433      0.041     -1.051      0.293      -0.124       0.038\n",
      "BsmtFinType2_LwQ         -0.0827      0.031     -2.662      0.008      -0.144      -0.022\n",
      "BsmtFinType2_Rec         -0.0783      0.030     -2.623      0.009      -0.137      -0.020\n",
      "BsmtFinType2_Unf         -0.1657      0.067     -2.464      0.014      -0.298      -0.034\n",
      "Heating_GasA              0.0372      0.117      0.318      0.751      -0.193       0.267\n",
      "Heating_GasW              0.1053      0.121      0.870      0.384      -0.132       0.343\n",
      "Heating_Grav             -0.1499      0.128     -1.173      0.241      -0.401       0.101\n",
      "Heating_OthW              0.0478      0.143      0.333      0.739      -0.234       0.329\n",
      "Heating_Wall              0.0491      0.134      0.366      0.714      -0.214       0.313\n",
      "HeatingQC_Fa             -0.0274      0.021     -1.290      0.197      -0.069       0.014\n",
      "HeatingQC_Gd             -0.0183      0.009     -1.959      0.050      -0.037    2.53e-05\n",
      "HeatingQC_Po             -0.0600      0.120     -0.501      0.617      -0.295       0.175\n",
      "HeatingQC_TA             -0.0325      0.009     -3.504      0.000      -0.051      -0.014\n",
      "CentralAir_Y              0.0455      0.018      2.585      0.010       0.011       0.080\n",
      "Electrical_FuseF         -0.0039      0.027     -0.147      0.884      -0.056       0.049\n",
      "Electrical_FuseP         -0.0806      0.084     -0.959      0.338      -0.246       0.084\n",
      "Electrical_Mix           -8.0913      0.349    -23.184      0.000      -8.776      -7.407\n",
      "Electrical_SBrkr         -0.0263      0.013     -1.951      0.051      -0.053       0.000\n",
      "KitchenQual_Fa           -0.0607      0.029     -2.128      0.034      -0.117      -0.005\n",
      "KitchenQual_Gd           -0.0614      0.016     -3.797      0.000      -0.093      -0.030\n",
      "KitchenQual_TA           -0.0597      0.018     -3.315      0.001      -0.095      -0.024\n",
      "Functional_Maj2          -0.2425      0.066     -3.669      0.000      -0.372      -0.113\n",
      "Functional_Min1          -0.0203      0.039     -0.519      0.604      -0.097       0.057\n",
      "Functional_Min2          -0.0395      0.040     -0.995      0.320      -0.117       0.038\n",
      "Functional_Mod           -0.0723      0.048     -1.521      0.128      -0.166       0.021\n",
      "Functional_Sev           -0.2103      0.131     -1.604      0.109      -0.468       0.047\n",
      "Functional_Typ            0.0388      0.035      1.120      0.263      -0.029       0.107\n",
      "FireplaceQu_Fa           -0.0277      0.025     -1.091      0.276      -0.078       0.022\n",
      "FireplaceQu_Gd            0.0014      0.017      0.083      0.934      -0.032       0.035\n",
      "FireplaceQu_Po            0.0104      0.030      0.351      0.726      -0.048       0.069\n",
      "FireplaceQu_TA           -0.0012      0.018     -0.069      0.945      -0.036       0.034\n",
      "GarageType_Attchd         0.0963      0.046      2.093      0.037       0.006       0.187\n",
      "GarageType_Basment        0.0798      0.056      1.429      0.153      -0.030       0.189\n",
      "GarageType_BuiltIn        0.0931      0.048      1.939      0.053      -0.001       0.187\n",
      "GarageType_CarPort        0.0911      0.064      1.418      0.157      -0.035       0.217\n",
      "GarageType_Detchd         0.1123      0.046      2.431      0.015       0.022       0.203\n",
      "GarageFinish_RFn         -0.0002      0.009     -0.025      0.980      -0.018       0.017\n",
      "GarageFinish_Unf         -0.0093      0.011     -0.854      0.393      -0.031       0.012\n",
      "GarageQual_Fa            -0.3896      0.138     -2.832      0.005      -0.659      -0.120\n",
      "GarageQual_Gd            -0.3344      0.141     -2.370      0.018      -0.611      -0.058\n",
      "GarageQual_Po            -0.3140      0.180     -1.746      0.081      -0.667       0.039\n",
      "GarageQual_TA            -0.3560      0.136     -2.618      0.009      -0.623      -0.089\n",
      "GarageCond_Fa             0.1532      0.151      1.016      0.310      -0.143       0.449\n",
      "GarageCond_Gd             0.2038      0.157      1.302      0.193      -0.103       0.511\n",
      "GarageCond_Po             0.2116      0.165      1.284      0.199      -0.112       0.535\n",
      "GarageCond_TA             0.1945      0.149      1.302      0.193      -0.099       0.488\n",
      "PavedDrive_P             -0.0262      0.025     -1.043      0.297      -0.076       0.023\n",
      "PavedDrive_Y              0.0036      0.016      0.228      0.820      -0.028       0.035\n",
      "SaleType_CWD              0.0207      0.058      0.356      0.722      -0.093       0.135\n",
      "SaleType_Con              0.0763      0.079      0.966      0.334      -0.079       0.231\n",
      "SaleType_ConLD            0.1120      0.045      2.477      0.013       0.023       0.201\n",
      "SaleType_ConLI           -0.0120      0.052     -0.230      0.818      -0.114       0.090\n",
      "SaleType_ConLw           -0.0136      0.056     -0.243      0.808      -0.124       0.097\n",
      "SaleType_New              0.1091      0.069      1.573      0.116      -0.027       0.245\n",
      "SaleType_Oth              0.0713      0.065      1.090      0.276      -0.057       0.199\n",
      "SaleType_WD              -0.0162      0.019     -0.854      0.393      -0.053       0.021\n",
      "SaleCondition_AdjLand     0.1336      0.066      2.016      0.044       0.004       0.264\n",
      "SaleCondition_Alloca      0.0654      0.039      1.671      0.095      -0.011       0.142\n",
      "SaleCondition_Family      0.0080      0.027      0.292      0.770      -0.046       0.062\n",
      "SaleCondition_Normal      0.0614      0.013      4.713      0.000       0.036       0.087\n",
      "SaleCondition_Partial    -0.0156      0.067     -0.234      0.815      -0.146       0.115\n",
      "==============================================================================\n",
      "Omnibus:                      383.024   Durbin-Watson:                   1.912\n",
      "Prob(Omnibus):                  0.000   Jarque-Bera (JB):             3577.646\n",
      "Skew:                          -0.945   Prob(JB):                         0.00\n",
      "Kurtosis:                      10.432   Cond. No.                     6.58e+16\n",
      "==============================================================================\n",
      "\n",
      "Warnings:\n",
      "[1] Standard Errors assume that the covariance matrix of the errors is correctly specified.\n",
      "[2] The smallest eigenvalue is 9.58e-30. This might indicate that there are\n",
      "strong multicollinearity problems or that the design matrix is singular.\n"
     ]
    }
   ],
   "source": [
    "import statsmodels.api as sm\n",
    "from statsmodels.sandbox.regression.predstd import wls_prediction_std\n",
    "\n",
    "model1=sm.OLS(y_train,X_train)\n",
    "result=model1.fit()\n",
    "print(result.summary())"
   ]
  },
  {
   "cell_type": "code",
   "execution_count": null,
   "metadata": {},
   "outputs": [],
   "source": []
  },
  {
   "cell_type": "code",
   "execution_count": 96,
   "metadata": {},
   "outputs": [],
   "source": [
    "from sklearn.linear_model import Lasso"
   ]
  },
  {
   "cell_type": "code",
   "execution_count": 98,
   "metadata": {},
   "outputs": [],
   "source": [
    "lasso = Lasso()"
   ]
  },
  {
   "cell_type": "code",
   "execution_count": 99,
   "metadata": {},
   "outputs": [
    {
     "name": "stdout",
     "output_type": "stream",
     "text": [
      "Root mean sqaure error 11.968545980270703\n"
     ]
    }
   ],
   "source": [
    "# fit and predict\n",
    "lasso.fit(X_train, y_train)\n",
    "\n",
    "lasso_pred = lasso.predict(X_test)\n",
    "# calculate RMSE\n",
    "lasso_rmse= np.sqrt(mean_squared_error(y_test,lasso_pred))\n",
    "print ('Root mean sqaure error', lasso_rmse)"
   ]
  },
  {
   "cell_type": "code",
   "execution_count": 100,
   "metadata": {},
   "outputs": [
    {
     "name": "stdout",
     "output_type": "stream",
     "text": [
      "265\n"
     ]
    }
   ],
   "source": [
    "# check how many feature coefficients are zero\n",
    "zero_features = np.sum(lasso.coef_==0)\n",
    "print (zero_features)"
   ]
  },
  {
   "cell_type": "code",
   "execution_count": 103,
   "metadata": {},
   "outputs": [],
   "source": [
    "from sklearn.linear_model import Ridge\n",
    "ridge = Ridge()"
   ]
  },
  {
   "cell_type": "code",
   "execution_count": 104,
   "metadata": {},
   "outputs": [
    {
     "name": "stdout",
     "output_type": "stream",
     "text": [
      "Root mean sqaure error 11.959703165773014\n"
     ]
    }
   ],
   "source": [
    "# fit and predict\n",
    "ridge.fit(X_train, y_train)\n",
    "ridge_pred = ridge.predict(X_test)\n",
    "# calculate RMSE\n",
    "ridge_rmse= np.sqrt(mean_squared_error(y_test,ridge_pred))\n",
    "print ('Root mean sqaure error', ridge_rmse)"
   ]
  },
  {
   "cell_type": "code",
   "execution_count": null,
   "metadata": {},
   "outputs": [],
   "source": []
  }
 ],
 "metadata": {
  "kernelspec": {
   "display_name": "Python 3",
   "language": "python",
   "name": "python3"
  },
  "language_info": {
   "codemirror_mode": {
    "name": "ipython",
    "version": 3
   },
   "file_extension": ".py",
   "mimetype": "text/x-python",
   "name": "python",
   "nbconvert_exporter": "python",
   "pygments_lexer": "ipython3",
   "version": "3.7.3"
  }
 },
 "nbformat": 4,
 "nbformat_minor": 2
}
